{
 "cells": [
  {
   "cell_type": "markdown",
   "id": "632cb3eb",
   "metadata": {},
   "source": []
  },
  {
   "cell_type": "markdown",
   "id": "002f301b",
   "metadata": {},
   "source": [
    "# Project Overview — Embedded Computer Vision: Electronic Component Classifier\n",
    "\n",
    "**Goal:** Train and evaluate a deep-learning image classifier that distinguishes **five classes** — **background, capacitor, diode, led, resistor** — from grayscale images.\n",
    "\n",
    "**Data pipeline:**\n",
    "\n",
    "* Load images per class folder; skip `.ipynb_checkpoints`.\n",
    "* Convert to **grayscale**, optionally **invert** pixels, and store as NumPy arrays.\n",
    "* Map **string labels → integers** and **one-hot encode** targets.\n",
    "* **Shuffle** samples, then split into **train/val/test** sets.\n",
    "\n",
    "**Model:**\n",
    "\n",
    "* **Keras Sequential** MLP: `Dense(64) + ReLU + Dropout(0.25)` → `Dense(64) + ReLU + Dropout(0.25)` → `Dense(5) + Softmax`.\n",
    "* Compile with **Adam** and **categorical\\_crossentropy**; track **accuracy**.\n",
    "\n",
    "**Evaluation:**\n",
    "\n",
    "* Use `model.evaluate` on the **test set**, generate predictions, convert with `argmax`.\n",
    "* Report **classification report** and **confusion matrix**.\n",
    "* Current snapshot (50 test images): **accuracy ≈ 0.94**; perfect “background”, strong “diode/led”, slightly lower **recall for “resistor”** and **precision for “capacitor/led”**.\n",
    "\n",
    "**Reproducibility:**\n",
    "\n",
    "* Activate `.venv`, freeze deps with `pip freeze > requirements.txt`, and version both in Git.\n",
    "\n",
    "**Next steps:**\n",
    "\n",
    "* Improve “resistor” **recall** and “capacitor/led” **precision** (tune thresholds, augment data).\n",
    "* Try a **CNN** (Conv2D + pooling) instead of an MLP for spatial features.\n",
    "* Apply **data augmentation**, **input normalization**, and consider **class weights** if imbalance exists."
   ]
  },
  {
   "cell_type": "code",
   "execution_count": 1,
   "id": "fd687088",
   "metadata": {},
   "outputs": [
    {
     "name": "stderr",
     "output_type": "stream",
     "text": [
      "2025-09-06 10:42:40.648432: I tensorflow/core/platform/cpu_feature_guard.cc:210] This TensorFlow binary is optimized to use available CPU instructions in performance-critical operations.\n",
      "To enable the following instructions: AVX2 FMA, in other operations, rebuild TensorFlow with the appropriate compiler flags.\n"
     ]
    }
   ],
   "source": [
    "import numpy as np\n",
    "import matplotlib.pyplot as plt\n",
    "import random\n",
    "import os\n",
    "import PIL\n",
    "\n",
    "from keras import utils                                   # tools for creating one-hot encoding\n",
    "from keras.models import Sequential                       # Type of model we wish to use\n",
    "from keras.layers import Dense, Dropout, Activation       # Types of layers we wish to use\n",
    "\n",
    "from skimage.transform import resize                      # Used to scale/resize image arrays\n",
    "from sklearn.preprocessing import LabelEncoder\n",
    "\n",
    "from sklearn.metrics import confusion_matrix, classification_report"
   ]
  },
  {
   "cell_type": "code",
   "execution_count": 2,
   "id": "39aaefa6",
   "metadata": {},
   "outputs": [],
   "source": [
    "### Settings\n",
    "\n",
    "# Location of dataset\n",
    "DATASET_PATH = \"../data/raw/electronic-components-bmp\"\n",
    "\n",
    "# Desired resolution of images\n",
    "TARGET_WIDTH = 28\n",
    "TARGET_HEIGHT = 28\n",
    "\n",
    "# Invert image (dark backgrounds can sometimes improve accuracy)\n",
    "INVERT = False\n",
    "\n",
    "# Set aside 20% for validation and 20% for test\n",
    "VAL_RATIO = 0.2\n",
    "TEST_RATIO = 0.2\n",
    "\n",
    "# You are welcome to change the seed to try a different validation set split\n",
    "random.seed(42)\n",
    "     "
   ]
  },
  {
   "cell_type": "code",
   "execution_count": 3,
   "id": "582a98e2",
   "metadata": {},
   "outputs": [
    {
     "name": "stdout",
     "output_type": "stream",
     "text": [
      "Added 50 images from background\n",
      "Added 50 images from led\n",
      "Added 50 images from capacitor\n",
      "Added 50 images from diode\n",
      "Added 50 images from resistor\n",
      "['background', 'capacitor', 'diode', 'led', 'resistor']\n",
      "Number of samples: 250\n"
     ]
    }
   ],
   "source": [
    "### Load images as Numpy arrays\n",
    "\n",
    "# We want to record the labels and assign a ground truth label as a number to each sample\n",
    "labels = []\n",
    "y_all = []    # Lowercase 'y' - 1D vector of the ground labels (n)\n",
    "X_all = []    # Uppercase 'X' - 3D array of all image samples (n x width x height)\n",
    "\n",
    "# Find the directories in the dataset folder (skip the Jupyter Notebook checkpoints hidden folder)\n",
    "for label in os.listdir(DATASET_PATH):\n",
    "  class_dir = os.path.join(DATASET_PATH, label)\n",
    "  if os.path.isdir(class_dir) and label != \".ipynb_checkpoints\":\n",
    "\n",
    "    # Add the name of the folder to our labels list\n",
    "    labels.append(label)\n",
    "\n",
    "    # Go through each image in the folder\n",
    "    for i, file in enumerate(os.listdir(class_dir)):\n",
    "\n",
    "      # Skip the Jupyter Notebook checkpoints folder that sometimes gets added\n",
    "      if file != \".ipynb_checkpoints\":\n",
    "\n",
    "        # Open image and convert to grayscale\n",
    "        file_path = os.path.join(class_dir, file)\n",
    "        img = PIL.Image.open(file_path).convert('L')\n",
    "\n",
    "        # Convert the image to a Numpy array, optionally invern, and append to X\n",
    "        img_array = np.asarray(img)\n",
    "        if INVERT:\n",
    "          img_array = 255 - img_array\n",
    "        X_all.append(img_array)\n",
    "\n",
    "        # Add label to the y array\n",
    "        y_all.append(label)\n",
    "\n",
    "    # Show how many images we loaded\n",
    "    print(\"Added\", str(i + 1), \"images from\", label)\n",
    "\n",
    "# Calculate total number of samples\n",
    "num_samples = len(X_all)\n",
    "\n",
    "# Sort the labels list by alphabetical order\n",
    "labels = sorted(labels)\n",
    "\n",
    "# Print out labels and number of samples\n",
    "print(labels)\n",
    "print(\"Number of samples:\", num_samples)"
   ]
  },
  {
   "cell_type": "code",
   "execution_count": 4,
   "id": "ce9dc91c",
   "metadata": {},
   "outputs": [
    {
     "name": "stdout",
     "output_type": "stream",
     "text": [
      "Classes: ['background' 'capacitor' 'diode' 'led' 'resistor']\n",
      "Integer labels: [0 1 2 3 4]\n"
     ]
    }
   ],
   "source": [
    "encoder = LabelEncoder()\n",
    "int_labels = encoder.fit_transform(labels)\n",
    "\n",
    "print(\"Classes:\", encoder.classes_)\n",
    "print(\"Integer labels:\", int_labels)"
   ]
  },
  {
   "cell_type": "code",
   "execution_count": 5,
   "id": "38680ea1",
   "metadata": {},
   "outputs": [
    {
     "name": "stdout",
     "output_type": "stream",
     "text": [
      "Before: ['background', 'background', 'background', 'background', 'background', 'background', 'background', 'background', 'background', 'background', 'background', 'background', 'background', 'background', 'background', 'background', 'background', 'background', 'background', 'background', 'background', 'background', 'background', 'background', 'background', 'background', 'background', 'background', 'background', 'background', 'background', 'background', 'background', 'background', 'background', 'background', 'background', 'background', 'background', 'background', 'background', 'background', 'background', 'background', 'background', 'background', 'background', 'background', 'background', 'background', 'led', 'led', 'led', 'led', 'led', 'led', 'led', 'led', 'led', 'led', 'led', 'led', 'led', 'led', 'led', 'led', 'led', 'led', 'led', 'led', 'led', 'led', 'led', 'led', 'led', 'led', 'led', 'led', 'led', 'led', 'led', 'led', 'led', 'led', 'led', 'led', 'led', 'led', 'led', 'led', 'led', 'led', 'led', 'led', 'led', 'led', 'led', 'led', 'led', 'led', 'capacitor', 'capacitor', 'capacitor', 'capacitor', 'capacitor', 'capacitor', 'capacitor', 'capacitor', 'capacitor', 'capacitor', 'capacitor', 'capacitor', 'capacitor', 'capacitor', 'capacitor', 'capacitor', 'capacitor', 'capacitor', 'capacitor', 'capacitor', 'capacitor', 'capacitor', 'capacitor', 'capacitor', 'capacitor', 'capacitor', 'capacitor', 'capacitor', 'capacitor', 'capacitor', 'capacitor', 'capacitor', 'capacitor', 'capacitor', 'capacitor', 'capacitor', 'capacitor', 'capacitor', 'capacitor', 'capacitor', 'capacitor', 'capacitor', 'capacitor', 'capacitor', 'capacitor', 'capacitor', 'capacitor', 'capacitor', 'capacitor', 'capacitor', 'diode', 'diode', 'diode', 'diode', 'diode', 'diode', 'diode', 'diode', 'diode', 'diode', 'diode', 'diode', 'diode', 'diode', 'diode', 'diode', 'diode', 'diode', 'diode', 'diode', 'diode', 'diode', 'diode', 'diode', 'diode', 'diode', 'diode', 'diode', 'diode', 'diode', 'diode', 'diode', 'diode', 'diode', 'diode', 'diode', 'diode', 'diode', 'diode', 'diode', 'diode', 'diode', 'diode', 'diode', 'diode', 'diode', 'diode', 'diode', 'diode', 'diode', 'resistor', 'resistor', 'resistor', 'resistor', 'resistor', 'resistor', 'resistor', 'resistor', 'resistor', 'resistor', 'resistor', 'resistor', 'resistor', 'resistor', 'resistor', 'resistor', 'resistor', 'resistor', 'resistor', 'resistor', 'resistor', 'resistor', 'resistor', 'resistor', 'resistor', 'resistor', 'resistor', 'resistor', 'resistor', 'resistor', 'resistor', 'resistor', 'resistor', 'resistor', 'resistor', 'resistor', 'resistor', 'resistor', 'resistor', 'resistor', 'resistor', 'resistor', 'resistor', 'resistor', 'resistor', 'resistor', 'resistor', 'resistor', 'resistor', 'resistor']\n",
      "After: [0, 0, 0, 0, 0, 0, 0, 0, 0, 0, 0, 0, 0, 0, 0, 0, 0, 0, 0, 0, 0, 0, 0, 0, 0, 0, 0, 0, 0, 0, 0, 0, 0, 0, 0, 0, 0, 0, 0, 0, 0, 0, 0, 0, 0, 0, 0, 0, 0, 0, 3, 3, 3, 3, 3, 3, 3, 3, 3, 3, 3, 3, 3, 3, 3, 3, 3, 3, 3, 3, 3, 3, 3, 3, 3, 3, 3, 3, 3, 3, 3, 3, 3, 3, 3, 3, 3, 3, 3, 3, 3, 3, 3, 3, 3, 3, 3, 3, 3, 3, 1, 1, 1, 1, 1, 1, 1, 1, 1, 1, 1, 1, 1, 1, 1, 1, 1, 1, 1, 1, 1, 1, 1, 1, 1, 1, 1, 1, 1, 1, 1, 1, 1, 1, 1, 1, 1, 1, 1, 1, 1, 1, 1, 1, 1, 1, 1, 1, 1, 1, 2, 2, 2, 2, 2, 2, 2, 2, 2, 2, 2, 2, 2, 2, 2, 2, 2, 2, 2, 2, 2, 2, 2, 2, 2, 2, 2, 2, 2, 2, 2, 2, 2, 2, 2, 2, 2, 2, 2, 2, 2, 2, 2, 2, 2, 2, 2, 2, 2, 2, 4, 4, 4, 4, 4, 4, 4, 4, 4, 4, 4, 4, 4, 4, 4, 4, 4, 4, 4, 4, 4, 4, 4, 4, 4, 4, 4, 4, 4, 4, 4, 4, 4, 4, 4, 4, 4, 4, 4, 4, 4, 4, 4, 4, 4, 4, 4, 4, 4, 4]\n"
     ]
    }
   ],
   "source": [
    "### Convert labels to numbers\n",
    "\n",
    "# Show the labels before the conversion\n",
    "print(\"Before:\", y_all)\n",
    "\n",
    "# Convert each label to its index in the labels\n",
    "y_out = []\n",
    "for i, label in enumerate(y_all):\n",
    "  y_out.append(labels.index(label))\n",
    "y_all = y_out\n",
    "\n",
    "# Show the labels after the conversion\n",
    "print(\"After:\", y_all)"
   ]
  },
  {
   "cell_type": "code",
   "execution_count": 6,
   "id": "5003ada6",
   "metadata": {},
   "outputs": [
    {
     "name": "stdout",
     "output_type": "stream",
     "text": [
      "Number of test samples: 50\n",
      "Number of validation samples: 50\n",
      "Number of training samples: 150\n"
     ]
    }
   ],
   "source": [
    "### Shuffle samples and labels together, divide into test, validation, and training sets\n",
    "\n",
    "# Shuffle samples and associated labels together\n",
    "X_y = list(zip(X_all, y_all))\n",
    "random.shuffle(X_y)\n",
    "X_all, y_all = zip(*X_y)\n",
    "\n",
    "# Calculate number of validation and test samples to put aside (round down)\n",
    "num_samples_test = int(TEST_RATIO * num_samples)\n",
    "num_samples_val = int(VAL_RATIO * num_samples)\n",
    "\n",
    "# The first `num_samples_test` samples of the shuffled list becomes the test set\n",
    "X_test = X_all[:num_samples_test]\n",
    "y_test = y_all[:num_samples_test]\n",
    "\n",
    "# The next `num_samples_val` samples of the shuffled list becomes the validation set\n",
    "X_val = X_all[num_samples_test:(num_samples_test + num_samples_val)]\n",
    "y_val = y_all[num_samples_test:(num_samples_test + num_samples_val)]\n",
    "\n",
    "# The remaining samples become the training set\n",
    "X_train = X_all[(num_samples_test + num_samples_val):]\n",
    "y_train = y_all[(num_samples_test + num_samples_val):]\n",
    "\n",
    "# Remember the number of samples in the test set\n",
    "num_samples_train = len(X_train)\n",
    "\n",
    "# Print out the number of test, validation, and training samples\n",
    "print(\"Number of test samples:\", num_samples_test)\n",
    "print(\"Number of validation samples:\", num_samples_val)\n",
    "print(\"Number of training samples:\", num_samples_train)"
   ]
  },
  {
   "cell_type": "code",
   "execution_count": 7,
   "id": "b8082d4f",
   "metadata": {},
   "outputs": [
    {
     "name": "stdout",
     "output_type": "stream",
     "text": [
      "Label: 2 (diode)\n",
      "[[140 140 140 ... 149 149 149]\n",
      " [140 140 140 ... 149 149 149]\n",
      " [140 140 140 ... 149 149 149]\n",
      " ...\n",
      " [146 146 146 ... 154 154 154]\n",
      " [146 146 146 ... 154 154 154]\n",
      " [146 146 146 ... 154 154 154]]\n"
     ]
    },
    {
     "data": {
      "text/plain": [
       "<matplotlib.image.AxesImage at 0x134575190>"
      ]
     },
     "execution_count": 7,
     "metadata": {},
     "output_type": "execute_result"
    },
    {
     "data": {
      "image/png": "[encoded data removed]",
      "text/plain": [
       "<Figure size 640x480 with 1 Axes>"
      ]
     },
     "metadata": {},
     "output_type": "display_data"
    }
   ],
   "source": [
    "### View one of the training samples\n",
    "\n",
    "# Chose which sample you want to view\n",
    "idx = 55\n",
    "\n",
    "# Print out label (numbe and string) and part of the array\n",
    "print(\"Label: \" + str(y_train[idx]) + \" (\" + labels[y_train[idx]] + \")\")\n",
    "print(X_train[idx])\n",
    "\n",
    "# Display image from array\n",
    "plt.imshow(X_train[idx], cmap='gray', vmin=0, vmax=255)"
   ]
  },
  {
   "cell_type": "code",
   "execution_count": 8,
   "id": "7ecd9d85",
   "metadata": {},
   "outputs": [],
   "source": [
    "### Function to resize list of images\n",
    "def resize_images(images, width, height, anti_aliasing=True):\n",
    "  \"\"\"\n",
    "  Prove a list of Numpy arrays (in images parameter) to have them all resized to desired height and\n",
    "  width. Returns the list of newly resized image arrays.\n",
    "\n",
    "  NOTE: skimage resize returns *normalized* image arrays (values between 0..1)\n",
    "  \"\"\"\n",
    "  X_out = []\n",
    "  for i, img in enumerate(images):\n",
    "    X_out.append(resize(img, (height, width), anti_aliasing=anti_aliasing))\n",
    "  return X_out\n",
    "     "
   ]
  },
  {
   "cell_type": "code",
   "execution_count": 9,
   "id": "313a5764",
   "metadata": {},
   "outputs": [],
   "source": [
    "### Scale/crop images\n",
    "\n",
    "# Resize (scale) all images in the training set\n",
    "X_train = resize_images(X_train, TARGET_WIDTH, TARGET_HEIGHT)\n",
    "\n",
    "# Resize (scale) all images in the validation set\n",
    "X_val = resize_images(X_val, TARGET_WIDTH, TARGET_HEIGHT)\n",
    "\n",
    "# Resize (scale) all images in the test set\n",
    "X_test = resize_images(X_test, TARGET_WIDTH, TARGET_HEIGHT)"
   ]
  },
  {
   "cell_type": "code",
   "execution_count": 10,
   "id": "abc39e0d",
   "metadata": {},
   "outputs": [
    {
     "name": "stdout",
     "output_type": "stream",
     "text": [
      "Label: 1 (capacitor)\n",
      "First row: [[0.61300656 0.61301122 0.61567284 0.61568716 0.61578083 0.61886414\n",
      "  0.62916339 0.63397858 0.63532383 0.63574478 0.63740039 0.63990605\n",
      "  0.63842706 0.64348612 0.64477119 0.63953106 0.63598509 0.63669703\n",
      "  0.63539134 0.63506976 0.63158354 0.63480111 0.63533566 0.63529502\n",
      "  0.63529412 0.63529423 0.63529421 0.63529412]]\n"
     ]
    },
    {
     "data": {
      "text/plain": [
       "<matplotlib.image.AxesImage at 0x135395460>"
      ]
     },
     "execution_count": 10,
     "metadata": {},
     "output_type": "execute_result"
    },
    {
     "data": {
      "image/png": "[encoded data removed]",
      "text/plain": [
       "<Figure size 640x480 with 1 Axes>"
      ]
     },
     "metadata": {},
     "output_type": "display_data"
    }
   ],
   "source": [
    "### View training sample again (after they all have been scaled)\n",
    "\n",
    "# Chose which sample you want to view\n",
    "idx = 0\n",
    "\n",
    "# Print out label (numbe and string) and part of the array\n",
    "print(\"Label: \" + str(y_train[idx]) + \" (\" + labels[y_train[idx]] + \")\")\n",
    "print(\"First row:\", X_train[idx][:1,:])\n",
    "\n",
    "# Display image from array (note that images have been normalized)\n",
    "plt.imshow(X_train[idx], cmap='gray', vmin=0, vmax=1)"
   ]
  },
  {
   "cell_type": "code",
   "execution_count": 11,
   "id": "e9e7c18b",
   "metadata": {},
   "outputs": [
    {
     "name": "stdout",
     "output_type": "stream",
     "text": [
      "Training X: (150, 28, 28)\n",
      "Training y: (150,)\n",
      "Validation X: (50, 28, 28)\n",
      "Validation y: (50,)\n",
      "Test X: (50, 28, 28)\n",
      "Test y: (50,)\n"
     ]
    }
   ],
   "source": [
    "### Convert list of samples and labels into Numpy arrays\n",
    "\n",
    "# Training set\n",
    "X_train = np.asarray(X_train)\n",
    "y_train = np.asarray(y_train)\n",
    "\n",
    "# Validation set\n",
    "X_val = np.asarray(X_val)\n",
    "y_val = np.asarray(y_val)\n",
    "\n",
    "# Test set\n",
    "X_test = np.asarray(X_test)\n",
    "y_test = np.asarray(y_test)\n",
    "\n",
    "# Print out the new Numpy array shapes (always a good idea to check the shapes!)\n",
    "print(\"Training X:\", X_train.shape)\n",
    "print(\"Training y:\", y_train.shape)\n",
    "print(\"Validation X:\", X_val.shape)\n",
    "print(\"Validation y:\", y_val.shape)\n",
    "print(\"Test X:\", X_test.shape)\n",
    "print(\"Test y:\", y_test.shape)"
   ]
  },
  {
   "cell_type": "code",
   "execution_count": 12,
   "id": "4127936e",
   "metadata": {},
   "outputs": [
    {
     "name": "stdout",
     "output_type": "stream",
     "text": [
      "X train: (150, 784)\n",
      "y train: (150,)\n",
      "X val: (50, 784)\n",
      "y val: (50,)\n",
      "X test: (50, 784)\n",
      "y test: (50,)\n",
      "Input tensor shape: (784,)\n"
     ]
    }
   ],
   "source": [
    "### Flatten each image to a 1D vector (DNN requires 1D input)\n",
    "\n",
    "# Compute length of 1D array that we will flatten each image to\n",
    "len_vector = TARGET_WIDTH * TARGET_WIDTH\n",
    "\n",
    "# Flatten matricies to vectors\n",
    "X_train = X_train.reshape(num_samples_train, len_vector)\n",
    "X_val = X_val.reshape(num_samples_val, len_vector)\n",
    "X_test = X_test.reshape(num_samples_test, len_vector)\n",
    "\n",
    "# Determine the input shape for our Keras model (must be tuple)\n",
    "input_shape = (X_train.shape[1],)\n",
    "\n",
    "# Print out shapes\n",
    "print(\"X train:\", X_train.shape)\n",
    "print(\"y train:\", y_train.shape)\n",
    "print(\"X val:\", X_val.shape)\n",
    "print(\"y val:\", y_val.shape)\n",
    "print(\"X test:\", X_test.shape)\n",
    "print(\"y test:\", y_test.shape)\n",
    "print(\"Input tensor shape:\", input_shape)"
   ]
  },
  {
   "cell_type": "code",
   "execution_count": 13,
   "id": "90ad22ce",
   "metadata": {},
   "outputs": [
    {
     "name": "stdout",
     "output_type": "stream",
     "text": [
      "Y train: (150, 5)\n",
      "Y val: (50, 5)\n",
      "Y test: (50, 5)\n",
      "Label: 1 | One-hot: [0. 1. 0. 0. 0.]\n",
      "Label: 1 | One-hot: [0. 1. 0. 0. 0.]\n",
      "Label: 4 | One-hot: [0. 0. 0. 0. 1.]\n",
      "Label: 4 | One-hot: [0. 0. 0. 0. 1.]\n",
      "Label: 4 | One-hot: [0. 0. 0. 0. 1.]\n",
      "Label: 0 | One-hot: [1. 0. 0. 0. 0.]\n",
      "Label: 1 | One-hot: [0. 1. 0. 0. 0.]\n",
      "Label: 2 | One-hot: [0. 0. 1. 0. 0.]\n",
      "Label: 1 | One-hot: [0. 1. 0. 0. 0.]\n",
      "Label: 0 | One-hot: [1. 0. 0. 0. 0.]\n"
     ]
    }
   ],
   "source": [
    "### Convert labels (integers) to one-hot encoding\n",
    "\n",
    "# Get number of classes\n",
    "num_classes = len(labels)\n",
    "\n",
    "# Use Keras's np_utils to create one-hot encoding (note the capital 'Y' - 2D array)\n",
    "Y_train = utils.to_categorical(y_train, num_classes)\n",
    "Y_val = utils.to_categorical(y_val, num_classes)\n",
    "Y_test = utils.to_categorical(y_test, num_classes)\n",
    "\n",
    "# Print out shapes (capital 'Y' is our one-hot matrix!)\n",
    "print(\"Y train:\", Y_train.shape)\n",
    "print(\"Y val:\", Y_val.shape)\n",
    "print(\"Y test:\", Y_test.shape)\n",
    "\n",
    "# Print out a few examples from training set\n",
    "for i in range(10):\n",
    "  print(\"Label: \" + str(y_train[i]) + \" | One-hot:\", Y_train[i])\n",
    "     "
   ]
  },
  {
   "cell_type": "code",
   "execution_count": 14,
   "id": "3f1f5e89",
   "metadata": {},
   "outputs": [
    {
     "name": "stderr",
     "output_type": "stream",
     "text": [
      "/Users/jonastheobald/projects/embedded_computervision/.venv/lib/python3.12/site-packages/keras/src/layers/core/dense.py:92: UserWarning: Do not pass an `input_shape`/`input_dim` argument to a layer. When using Sequential models, prefer using an `Input(shape)` object as the first layer in the model instead.\n",
      "  super().__init__(activity_regularizer=activity_regularizer, **kwargs)\n"
     ]
    },
    {
     "data": {
      "text/html": [
       "<pre style=\"white-space:pre;overflow-x:auto;line-height:normal;font-family:Menlo,'DejaVu Sans Mono',consolas,'Courier New',monospace\"><span style=\"font-weight: bold\">Model: \"sequential\"</span>\n",
       "</pre>\n"
      ],
      "text/plain": [
       "\u001b[1mModel: \"sequential\"\u001b[0m\n"
      ]
     },
     "metadata": {},
     "output_type": "display_data"
    },
    {
     "data": {
      "text/html": [
       "<pre style=\"white-space:pre;overflow-x:auto;line-height:normal;font-family:Menlo,'DejaVu Sans Mono',consolas,'Courier New',monospace\">┏━━━━━━━━━━━━━━━━━━━━━━━━━━━━━━━━━┳━━━━━━━━━━━━━━━━━━━━━━━━┳━━━━━━━━━━━━━━━┓\n",
       "┃<span style=\"font-weight: bold\"> Layer (type)                    </span>┃<span style=\"font-weight: bold\"> Output Shape           </span>┃<span style=\"font-weight: bold\">       Param # </span>┃\n",
       "┡━━━━━━━━━━━━━━━━━━━━━━━━━━━━━━━━━╇━━━━━━━━━━━━━━━━━━━━━━━━╇━━━━━━━━━━━━━━━┩\n",
       "│ dense (<span style=\"color: #0087ff; text-decoration-color: #0087ff\">Dense</span>)                   │ (<span style=\"color: #00d7ff; text-decoration-color: #00d7ff\">None</span>, <span style=\"color: #00af00; text-decoration-color: #00af00\">64</span>)             │        <span style=\"color: #00af00; text-decoration-color: #00af00\">50,240</span> │\n",
       "├─────────────────────────────────┼────────────────────────┼───────────────┤\n",
       "│ activation (<span style=\"color: #0087ff; text-decoration-color: #0087ff\">Activation</span>)         │ (<span style=\"color: #00d7ff; text-decoration-color: #00d7ff\">None</span>, <span style=\"color: #00af00; text-decoration-color: #00af00\">64</span>)             │             <span style=\"color: #00af00; text-decoration-color: #00af00\">0</span> │\n",
       "├─────────────────────────────────┼────────────────────────┼───────────────┤\n",
       "│ dropout (<span style=\"color: #0087ff; text-decoration-color: #0087ff\">Dropout</span>)               │ (<span style=\"color: #00d7ff; text-decoration-color: #00d7ff\">None</span>, <span style=\"color: #00af00; text-decoration-color: #00af00\">64</span>)             │             <span style=\"color: #00af00; text-decoration-color: #00af00\">0</span> │\n",
       "├─────────────────────────────────┼────────────────────────┼───────────────┤\n",
       "│ dense_1 (<span style=\"color: #0087ff; text-decoration-color: #0087ff\">Dense</span>)                 │ (<span style=\"color: #00d7ff; text-decoration-color: #00d7ff\">None</span>, <span style=\"color: #00af00; text-decoration-color: #00af00\">64</span>)             │         <span style=\"color: #00af00; text-decoration-color: #00af00\">4,160</span> │\n",
       "├─────────────────────────────────┼────────────────────────┼───────────────┤\n",
       "│ activation_1 (<span style=\"color: #0087ff; text-decoration-color: #0087ff\">Activation</span>)       │ (<span style=\"color: #00d7ff; text-decoration-color: #00d7ff\">None</span>, <span style=\"color: #00af00; text-decoration-color: #00af00\">64</span>)             │             <span style=\"color: #00af00; text-decoration-color: #00af00\">0</span> │\n",
       "├─────────────────────────────────┼────────────────────────┼───────────────┤\n",
       "│ dropout_1 (<span style=\"color: #0087ff; text-decoration-color: #0087ff\">Dropout</span>)             │ (<span style=\"color: #00d7ff; text-decoration-color: #00d7ff\">None</span>, <span style=\"color: #00af00; text-decoration-color: #00af00\">64</span>)             │             <span style=\"color: #00af00; text-decoration-color: #00af00\">0</span> │\n",
       "├─────────────────────────────────┼────────────────────────┼───────────────┤\n",
       "│ dense_2 (<span style=\"color: #0087ff; text-decoration-color: #0087ff\">Dense</span>)                 │ (<span style=\"color: #00d7ff; text-decoration-color: #00d7ff\">None</span>, <span style=\"color: #00af00; text-decoration-color: #00af00\">5</span>)              │           <span style=\"color: #00af00; text-decoration-color: #00af00\">325</span> │\n",
       "├─────────────────────────────────┼────────────────────────┼───────────────┤\n",
       "│ activation_2 (<span style=\"color: #0087ff; text-decoration-color: #0087ff\">Activation</span>)       │ (<span style=\"color: #00d7ff; text-decoration-color: #00d7ff\">None</span>, <span style=\"color: #00af00; text-decoration-color: #00af00\">5</span>)              │             <span style=\"color: #00af00; text-decoration-color: #00af00\">0</span> │\n",
       "└─────────────────────────────────┴────────────────────────┴───────────────┘\n",
       "</pre>\n"
      ],
      "text/plain": [
       "┏━━━━━━━━━━━━━━━━━━━━━━━━━━━━━━━━━┳━━━━━━━━━━━━━━━━━━━━━━━━┳━━━━━━━━━━━━━━━┓\n",
       "┃\u001b[1m \u001b[0m\u001b[1mLayer (type)                   \u001b[0m\u001b[1m \u001b[0m┃\u001b[1m \u001b[0m\u001b[1mOutput Shape          \u001b[0m\u001b[1m \u001b[0m┃\u001b[1m \u001b[0m\u001b[1m      Param #\u001b[0m\u001b[1m \u001b[0m┃\n",
       "┡━━━━━━━━━━━━━━━━━━━━━━━━━━━━━━━━━╇━━━━━━━━━━━━━━━━━━━━━━━━╇━━━━━━━━━━━━━━━┩\n",
       "│ dense (\u001b[38;5;33mDense\u001b[0m)                   │ (\u001b[38;5;45mNone\u001b[0m, \u001b[38;5;34m64\u001b[0m)             │        \u001b[38;5;34m50,240\u001b[0m │\n",
       "├─────────────────────────────────┼────────────────────────┼───────────────┤\n",
       "│ activation (\u001b[38;5;33mActivation\u001b[0m)         │ (\u001b[38;5;45mNone\u001b[0m, \u001b[38;5;34m64\u001b[0m)             │             \u001b[38;5;34m0\u001b[0m │\n",
       "├─────────────────────────────────┼────────────────────────┼───────────────┤\n",
       "│ dropout (\u001b[38;5;33mDropout\u001b[0m)               │ (\u001b[38;5;45mNone\u001b[0m, \u001b[38;5;34m64\u001b[0m)             │             \u001b[38;5;34m0\u001b[0m │\n",
       "├─────────────────────────────────┼────────────────────────┼───────────────┤\n",
       "│ dense_1 (\u001b[38;5;33mDense\u001b[0m)                 │ (\u001b[38;5;45mNone\u001b[0m, \u001b[38;5;34m64\u001b[0m)             │         \u001b[38;5;34m4,160\u001b[0m │\n",
       "├─────────────────────────────────┼────────────────────────┼───────────────┤\n",
       "│ activation_1 (\u001b[38;5;33mActivation\u001b[0m)       │ (\u001b[38;5;45mNone\u001b[0m, \u001b[38;5;34m64\u001b[0m)             │             \u001b[38;5;34m0\u001b[0m │\n",
       "├─────────────────────────────────┼────────────────────────┼───────────────┤\n",
       "│ dropout_1 (\u001b[38;5;33mDropout\u001b[0m)             │ (\u001b[38;5;45mNone\u001b[0m, \u001b[38;5;34m64\u001b[0m)             │             \u001b[38;5;34m0\u001b[0m │\n",
       "├─────────────────────────────────┼────────────────────────┼───────────────┤\n",
       "│ dense_2 (\u001b[38;5;33mDense\u001b[0m)                 │ (\u001b[38;5;45mNone\u001b[0m, \u001b[38;5;34m5\u001b[0m)              │           \u001b[38;5;34m325\u001b[0m │\n",
       "├─────────────────────────────────┼────────────────────────┼───────────────┤\n",
       "│ activation_2 (\u001b[38;5;33mActivation\u001b[0m)       │ (\u001b[38;5;45mNone\u001b[0m, \u001b[38;5;34m5\u001b[0m)              │             \u001b[38;5;34m0\u001b[0m │\n",
       "└─────────────────────────────────┴────────────────────────┴───────────────┘\n"
      ]
     },
     "metadata": {},
     "output_type": "display_data"
    },
    {
     "data": {
      "text/html": [
       "<pre style=\"white-space:pre;overflow-x:auto;line-height:normal;font-family:Menlo,'DejaVu Sans Mono',consolas,'Courier New',monospace\"><span style=\"font-weight: bold\"> Total params: </span><span style=\"color: #00af00; text-decoration-color: #00af00\">54,725</span> (213.77 KB)\n",
       "</pre>\n"
      ],
      "text/plain": [
       "\u001b[1m Total params: \u001b[0m\u001b[38;5;34m54,725\u001b[0m (213.77 KB)\n"
      ]
     },
     "metadata": {},
     "output_type": "display_data"
    },
    {
     "data": {
      "text/html": [
       "<pre style=\"white-space:pre;overflow-x:auto;line-height:normal;font-family:Menlo,'DejaVu Sans Mono',consolas,'Courier New',monospace\"><span style=\"font-weight: bold\"> Trainable params: </span><span style=\"color: #00af00; text-decoration-color: #00af00\">54,725</span> (213.77 KB)\n",
       "</pre>\n"
      ],
      "text/plain": [
       "\u001b[1m Trainable params: \u001b[0m\u001b[38;5;34m54,725\u001b[0m (213.77 KB)\n"
      ]
     },
     "metadata": {},
     "output_type": "display_data"
    },
    {
     "data": {
      "text/html": [
       "<pre style=\"white-space:pre;overflow-x:auto;line-height:normal;font-family:Menlo,'DejaVu Sans Mono',consolas,'Courier New',monospace\"><span style=\"font-weight: bold\"> Non-trainable params: </span><span style=\"color: #00af00; text-decoration-color: #00af00\">0</span> (0.00 B)\n",
       "</pre>\n"
      ],
      "text/plain": [
       "\u001b[1m Non-trainable params: \u001b[0m\u001b[38;5;34m0\u001b[0m (0.00 B)\n"
      ]
     },
     "metadata": {},
     "output_type": "display_data"
    },
    {
     "name": "stdout",
     "output_type": "stream",
     "text": [
      "None\n"
     ]
    }
   ],
   "source": [
    "### Construct Keras model\n",
    "\n",
    "# A sequential model is a linear stack of layers\n",
    "model = Sequential()\n",
    "\n",
    "# First layer: fully-connected with relu activation\n",
    "model.add(Dense(64, input_shape=input_shape))\n",
    "model.add(Activation('relu'))\n",
    "model.add(Dropout(0.25))\n",
    "\n",
    "# Second layer: fully-connected with relu activation\n",
    "model.add(Dense(64))   # Input shape is determined automatically from previous layer\n",
    "model.add(Activation('relu'))\n",
    "model.add(Dropout(0.25))\n",
    "\n",
    "# Third layer: 10 nodes, one for each class, and softmax activation\n",
    "model.add(Dense(num_classes))\n",
    "model.add(Activation('softmax'))\n",
    "\n",
    "# Configure the model's training settings\n",
    "model.compile(loss='categorical_crossentropy', optimizer='adam', metrics=['acc'])\n",
    "\n",
    "# Print out model summary\n",
    "print(model.summary())"
   ]
  },
  {
   "cell_type": "code",
   "execution_count": 15,
   "id": "a2d300a2",
   "metadata": {},
   "outputs": [
    {
     "name": "stdout",
     "output_type": "stream",
     "text": [
      "Epoch 1/200\n",
      "\u001b[1m5/5\u001b[0m \u001b[32m━━━━━━━━━━━━━━━━━━━━\u001b[0m\u001b[37m\u001b[0m \u001b[1m2s\u001b[0m 71ms/step - acc: 0.1800 - loss: 1.7305 - val_acc: 0.1600 - val_loss: 1.6635\n",
      "Epoch 2/200\n",
      "\u001b[1m5/5\u001b[0m \u001b[32m━━━━━━━━━━━━━━━━━━━━\u001b[0m\u001b[37m\u001b[0m \u001b[1m0s\u001b[0m 19ms/step - acc: 0.1867 - loss: 1.6611 - val_acc: 0.2600 - val_loss: 1.5537\n",
      "Epoch 3/200\n",
      "\u001b[1m5/5\u001b[0m \u001b[32m━━━━━━━━━━━━━━━━━━━━\u001b[0m\u001b[37m\u001b[0m \u001b[1m0s\u001b[0m 17ms/step - acc: 0.2133 - loss: 1.6185 - val_acc: 0.2000 - val_loss: 1.5446\n",
      "Epoch 4/200\n",
      "\u001b[1m5/5\u001b[0m \u001b[32m━━━━━━━━━━━━━━━━━━━━\u001b[0m\u001b[37m\u001b[0m \u001b[1m0s\u001b[0m 17ms/step - acc: 0.3733 - loss: 1.4982 - val_acc: 0.3200 - val_loss: 1.4732\n",
      "Epoch 5/200\n",
      "\u001b[1m5/5\u001b[0m \u001b[32m━━━━━━━━━━━━━━━━━━━━\u001b[0m\u001b[37m\u001b[0m \u001b[1m0s\u001b[0m 17ms/step - acc: 0.3600 - loss: 1.4793 - val_acc: 0.5800 - val_loss: 1.4486\n",
      "Epoch 6/200\n",
      "\u001b[1m5/5\u001b[0m \u001b[32m━━━━━━━━━━━━━━━━━━━━\u001b[0m\u001b[37m\u001b[0m \u001b[1m0s\u001b[0m 17ms/step - acc: 0.3400 - loss: 1.4881 - val_acc: 0.6400 - val_loss: 1.3846\n",
      "Epoch 7/200\n",
      "\u001b[1m5/5\u001b[0m \u001b[32m━━━━━━━━━━━━━━━━━━━━\u001b[0m\u001b[37m\u001b[0m \u001b[1m0s\u001b[0m 17ms/step - acc: 0.4667 - loss: 1.4443 - val_acc: 0.5000 - val_loss: 1.3136\n",
      "Epoch 8/200\n",
      "\u001b[1m5/5\u001b[0m \u001b[32m━━━━━━━━━━━━━━━━━━━━\u001b[0m\u001b[37m\u001b[0m \u001b[1m0s\u001b[0m 17ms/step - acc: 0.4400 - loss: 1.3560 - val_acc: 0.5400 - val_loss: 1.2761\n",
      "Epoch 9/200\n",
      "\u001b[1m5/5\u001b[0m \u001b[32m━━━━━━━━━━━━━━━━━━━━\u001b[0m\u001b[37m\u001b[0m \u001b[1m0s\u001b[0m 17ms/step - acc: 0.4467 - loss: 1.3616 - val_acc: 0.6400 - val_loss: 1.2418\n",
      "Epoch 10/200\n",
      "\u001b[1m5/5\u001b[0m \u001b[32m━━━━━━━━━━━━━━━━━━━━\u001b[0m\u001b[37m\u001b[0m \u001b[1m0s\u001b[0m 17ms/step - acc: 0.4800 - loss: 1.3181 - val_acc: 0.6000 - val_loss: 1.1794\n",
      "Epoch 11/200\n",
      "\u001b[1m5/5\u001b[0m \u001b[32m━━━━━━━━━━━━━━━━━━━━\u001b[0m\u001b[37m\u001b[0m \u001b[1m0s\u001b[0m 17ms/step - acc: 0.5067 - loss: 1.2429 - val_acc: 0.5400 - val_loss: 1.1404\n",
      "Epoch 12/200\n",
      "\u001b[1m5/5\u001b[0m \u001b[32m━━━━━━━━━━━━━━━━━━━━\u001b[0m\u001b[37m\u001b[0m \u001b[1m0s\u001b[0m 17ms/step - acc: 0.5200 - loss: 1.2111 - val_acc: 0.5600 - val_loss: 1.0855\n",
      "Epoch 13/200\n",
      "\u001b[1m5/5\u001b[0m \u001b[32m━━━━━━━━━━━━━━━━━━━━\u001b[0m\u001b[37m\u001b[0m \u001b[1m0s\u001b[0m 20ms/step - acc: 0.5467 - loss: 1.1356 - val_acc: 0.6600 - val_loss: 1.0562\n",
      "Epoch 14/200\n",
      "\u001b[1m5/5\u001b[0m \u001b[32m━━━━━━━━━━━━━━━━━━━━\u001b[0m\u001b[37m\u001b[0m \u001b[1m0s\u001b[0m 18ms/step - acc: 0.6067 - loss: 1.1078 - val_acc: 0.6800 - val_loss: 0.9768\n",
      "Epoch 15/200\n",
      "\u001b[1m5/5\u001b[0m \u001b[32m━━━━━━━━━━━━━━━━━━━━\u001b[0m\u001b[37m\u001b[0m \u001b[1m0s\u001b[0m 17ms/step - acc: 0.6800 - loss: 1.0246 - val_acc: 0.6800 - val_loss: 0.9731\n",
      "Epoch 16/200\n",
      "\u001b[1m5/5\u001b[0m \u001b[32m━━━━━━━━━━━━━━━━━━━━\u001b[0m\u001b[37m\u001b[0m \u001b[1m0s\u001b[0m 18ms/step - acc: 0.5533 - loss: 1.0623 - val_acc: 0.6800 - val_loss: 0.9258\n",
      "Epoch 17/200\n",
      "\u001b[1m5/5\u001b[0m \u001b[32m━━━━━━━━━━━━━━━━━━━━\u001b[0m\u001b[37m\u001b[0m \u001b[1m0s\u001b[0m 18ms/step - acc: 0.5800 - loss: 1.0630 - val_acc: 0.6400 - val_loss: 0.9447\n",
      "Epoch 18/200\n",
      "\u001b[1m5/5\u001b[0m \u001b[32m━━━━━━━━━━━━━━━━━━━━\u001b[0m\u001b[37m\u001b[0m \u001b[1m0s\u001b[0m 52ms/step - acc: 0.6267 - loss: 0.9893 - val_acc: 0.7200 - val_loss: 0.8481\n",
      "Epoch 19/200\n",
      "\u001b[1m5/5\u001b[0m \u001b[32m━━━━━━━━━━━━━━━━━━━━\u001b[0m\u001b[37m\u001b[0m \u001b[1m0s\u001b[0m 18ms/step - acc: 0.6600 - loss: 0.9548 - val_acc: 0.7000 - val_loss: 0.8277\n",
      "Epoch 20/200\n",
      "\u001b[1m5/5\u001b[0m \u001b[32m━━━━━━━━━━━━━━━━━━━━\u001b[0m\u001b[37m\u001b[0m \u001b[1m0s\u001b[0m 33ms/step - acc: 0.6467 - loss: 0.9058 - val_acc: 0.8000 - val_loss: 0.7825\n",
      "Epoch 21/200\n",
      "\u001b[1m5/5\u001b[0m \u001b[32m━━━━━━━━━━━━━━━━━━━━\u001b[0m\u001b[37m\u001b[0m \u001b[1m0s\u001b[0m 18ms/step - acc: 0.6867 - loss: 0.8536 - val_acc: 0.7000 - val_loss: 0.7847\n",
      "Epoch 22/200\n",
      "\u001b[1m5/5\u001b[0m \u001b[32m━━━━━━━━━━━━━━━━━━━━\u001b[0m\u001b[37m\u001b[0m \u001b[1m0s\u001b[0m 18ms/step - acc: 0.7133 - loss: 0.8532 - val_acc: 0.7400 - val_loss: 0.7441\n",
      "Epoch 23/200\n",
      "\u001b[1m5/5\u001b[0m \u001b[32m━━━━━━━━━━━━━━━━━━━━\u001b[0m\u001b[37m\u001b[0m \u001b[1m0s\u001b[0m 18ms/step - acc: 0.6800 - loss: 0.8409 - val_acc: 0.7400 - val_loss: 0.7264\n",
      "Epoch 24/200\n",
      "\u001b[1m5/5\u001b[0m \u001b[32m━━━━━━━━━━━━━━━━━━━━\u001b[0m\u001b[37m\u001b[0m \u001b[1m0s\u001b[0m 18ms/step - acc: 0.7400 - loss: 0.7584 - val_acc: 0.7800 - val_loss: 0.7067\n",
      "Epoch 25/200\n",
      "\u001b[1m5/5\u001b[0m \u001b[32m━━━━━━━━━━━━━━━━━━━━\u001b[0m\u001b[37m\u001b[0m \u001b[1m0s\u001b[0m 17ms/step - acc: 0.6867 - loss: 0.8695 - val_acc: 0.8800 - val_loss: 0.6997\n",
      "Epoch 26/200\n",
      "\u001b[1m5/5\u001b[0m \u001b[32m━━━━━━━━━━━━━━━━━━━━\u001b[0m\u001b[37m\u001b[0m \u001b[1m0s\u001b[0m 17ms/step - acc: 0.6933 - loss: 0.7850 - val_acc: 0.7000 - val_loss: 0.6951\n",
      "Epoch 27/200\n",
      "\u001b[1m5/5\u001b[0m \u001b[32m━━━━━━━━━━━━━━━━━━━━\u001b[0m\u001b[37m\u001b[0m \u001b[1m0s\u001b[0m 18ms/step - acc: 0.7333 - loss: 0.7456 - val_acc: 0.8800 - val_loss: 0.6217\n",
      "Epoch 28/200\n",
      "\u001b[1m5/5\u001b[0m \u001b[32m━━━━━━━━━━━━━━━━━━━━\u001b[0m\u001b[37m\u001b[0m \u001b[1m0s\u001b[0m 17ms/step - acc: 0.7600 - loss: 0.7113 - val_acc: 0.8400 - val_loss: 0.6203\n",
      "Epoch 29/200\n",
      "\u001b[1m5/5\u001b[0m \u001b[32m━━━━━━━━━━━━━━━━━━━━\u001b[0m\u001b[37m\u001b[0m \u001b[1m0s\u001b[0m 17ms/step - acc: 0.7400 - loss: 0.6900 - val_acc: 0.7400 - val_loss: 0.6073\n",
      "Epoch 30/200\n",
      "\u001b[1m5/5\u001b[0m \u001b[32m━━━━━━━━━━━━━━━━━━━━\u001b[0m\u001b[37m\u001b[0m \u001b[1m0s\u001b[0m 17ms/step - acc: 0.7800 - loss: 0.6539 - val_acc: 0.7600 - val_loss: 0.6074\n",
      "Epoch 31/200\n",
      "\u001b[1m5/5\u001b[0m \u001b[32m━━━━━━━━━━━━━━━━━━━━\u001b[0m\u001b[37m\u001b[0m \u001b[1m0s\u001b[0m 17ms/step - acc: 0.7933 - loss: 0.6071 - val_acc: 0.8200 - val_loss: 0.5503\n",
      "Epoch 32/200\n",
      "\u001b[1m5/5\u001b[0m \u001b[32m━━━━━━━━━━━━━━━━━━━━\u001b[0m\u001b[37m\u001b[0m \u001b[1m0s\u001b[0m 17ms/step - acc: 0.8000 - loss: 0.5772 - val_acc: 0.9000 - val_loss: 0.5222\n",
      "Epoch 33/200\n",
      "\u001b[1m5/5\u001b[0m \u001b[32m━━━━━━━━━━━━━━━━━━━━\u001b[0m\u001b[37m\u001b[0m \u001b[1m0s\u001b[0m 17ms/step - acc: 0.7933 - loss: 0.6082 - val_acc: 0.9000 - val_loss: 0.5257\n",
      "Epoch 34/200\n",
      "\u001b[1m5/5\u001b[0m \u001b[32m━━━━━━━━━━━━━━━━━━━━\u001b[0m\u001b[37m\u001b[0m \u001b[1m0s\u001b[0m 18ms/step - acc: 0.8133 - loss: 0.5567 - val_acc: 0.8000 - val_loss: 0.5285\n",
      "Epoch 35/200\n",
      "\u001b[1m5/5\u001b[0m \u001b[32m━━━━━━━━━━━━━━━━━━━━\u001b[0m\u001b[37m\u001b[0m \u001b[1m0s\u001b[0m 20ms/step - acc: 0.7733 - loss: 0.5886 - val_acc: 0.8800 - val_loss: 0.4986\n",
      "Epoch 36/200\n",
      "\u001b[1m5/5\u001b[0m \u001b[32m━━━━━━━━━━━━━━━━━━━━\u001b[0m\u001b[37m\u001b[0m \u001b[1m0s\u001b[0m 19ms/step - acc: 0.7867 - loss: 0.6195 - val_acc: 0.9400 - val_loss: 0.4917\n",
      "Epoch 37/200\n",
      "\u001b[1m5/5\u001b[0m \u001b[32m━━━━━━━━━━━━━━━━━━━━\u001b[0m\u001b[37m\u001b[0m \u001b[1m0s\u001b[0m 17ms/step - acc: 0.8333 - loss: 0.5571 - val_acc: 0.9000 - val_loss: 0.4802\n",
      "Epoch 38/200\n",
      "\u001b[1m5/5\u001b[0m \u001b[32m━━━━━━━━━━━━━━━━━━━━\u001b[0m\u001b[37m\u001b[0m \u001b[1m0s\u001b[0m 17ms/step - acc: 0.8333 - loss: 0.5307 - val_acc: 0.8600 - val_loss: 0.4714\n",
      "Epoch 39/200\n",
      "\u001b[1m5/5\u001b[0m \u001b[32m━━━━━━━━━━━━━━━━━━━━\u001b[0m\u001b[37m\u001b[0m \u001b[1m0s\u001b[0m 17ms/step - acc: 0.7867 - loss: 0.4801 - val_acc: 0.9400 - val_loss: 0.4344\n",
      "Epoch 40/200\n",
      "\u001b[1m5/5\u001b[0m \u001b[32m━━━━━━━━━━━━━━━━━━━━\u001b[0m\u001b[37m\u001b[0m \u001b[1m0s\u001b[0m 17ms/step - acc: 0.8667 - loss: 0.4871 - val_acc: 0.9200 - val_loss: 0.4345\n",
      "Epoch 41/200\n",
      "\u001b[1m5/5\u001b[0m \u001b[32m━━━━━━━━━━━━━━━━━━━━\u001b[0m\u001b[37m\u001b[0m \u001b[1m0s\u001b[0m 17ms/step - acc: 0.8000 - loss: 0.5106 - val_acc: 0.8800 - val_loss: 0.4508\n",
      "Epoch 42/200\n",
      "\u001b[1m5/5\u001b[0m \u001b[32m━━━━━━━━━━━━━━━━━━━━\u001b[0m\u001b[37m\u001b[0m \u001b[1m0s\u001b[0m 17ms/step - acc: 0.8267 - loss: 0.4728 - val_acc: 0.9000 - val_loss: 0.4421\n",
      "Epoch 43/200\n",
      "\u001b[1m5/5\u001b[0m \u001b[32m━━━━━━━━━━━━━━━━━━━━\u001b[0m\u001b[37m\u001b[0m \u001b[1m0s\u001b[0m 17ms/step - acc: 0.8000 - loss: 0.5179 - val_acc: 0.9400 - val_loss: 0.4170\n",
      "Epoch 44/200\n",
      "\u001b[1m5/5\u001b[0m \u001b[32m━━━━━━━━━━━━━━━━━━━━\u001b[0m\u001b[37m\u001b[0m \u001b[1m0s\u001b[0m 19ms/step - acc: 0.8333 - loss: 0.4783 - val_acc: 0.8600 - val_loss: 0.4201\n",
      "Epoch 45/200\n",
      "\u001b[1m5/5\u001b[0m \u001b[32m━━━━━━━━━━━━━━━━━━━━\u001b[0m\u001b[37m\u001b[0m \u001b[1m0s\u001b[0m 18ms/step - acc: 0.8400 - loss: 0.4532 - val_acc: 0.9000 - val_loss: 0.4063\n",
      "Epoch 46/200\n",
      "\u001b[1m5/5\u001b[0m \u001b[32m━━━━━━━━━━━━━━━━━━━━\u001b[0m\u001b[37m\u001b[0m \u001b[1m0s\u001b[0m 18ms/step - acc: 0.7933 - loss: 0.5032 - val_acc: 0.9000 - val_loss: 0.4232\n",
      "Epoch 47/200\n",
      "\u001b[1m5/5\u001b[0m \u001b[32m━━━━━━━━━━━━━━━━━━━━\u001b[0m\u001b[37m\u001b[0m \u001b[1m0s\u001b[0m 17ms/step - acc: 0.8333 - loss: 0.4497 - val_acc: 0.9600 - val_loss: 0.3872\n",
      "Epoch 48/200\n",
      "\u001b[1m5/5\u001b[0m \u001b[32m━━━━━━━━━━━━━━━━━━━━\u001b[0m\u001b[37m\u001b[0m \u001b[1m0s\u001b[0m 17ms/step - acc: 0.8600 - loss: 0.5050 - val_acc: 0.9000 - val_loss: 0.4093\n",
      "Epoch 49/200\n",
      "\u001b[1m5/5\u001b[0m \u001b[32m━━━━━━━━━━━━━━━━━━━━\u001b[0m\u001b[37m\u001b[0m \u001b[1m0s\u001b[0m 17ms/step - acc: 0.8533 - loss: 0.4745 - val_acc: 0.8800 - val_loss: 0.4215\n",
      "Epoch 50/200\n",
      "\u001b[1m5/5\u001b[0m \u001b[32m━━━━━━━━━━━━━━━━━━━━\u001b[0m\u001b[37m\u001b[0m \u001b[1m0s\u001b[0m 17ms/step - acc: 0.7800 - loss: 0.4753 - val_acc: 0.9200 - val_loss: 0.3953\n",
      "Epoch 51/200\n",
      "\u001b[1m5/5\u001b[0m \u001b[32m━━━━━━━━━━━━━━━━━━━━\u001b[0m\u001b[37m\u001b[0m \u001b[1m0s\u001b[0m 17ms/step - acc: 0.8333 - loss: 0.4126 - val_acc: 0.9600 - val_loss: 0.3630\n",
      "Epoch 52/200\n",
      "\u001b[1m5/5\u001b[0m \u001b[32m━━━━━━━━━━━━━━━━━━━━\u001b[0m\u001b[37m\u001b[0m \u001b[1m0s\u001b[0m 17ms/step - acc: 0.8200 - loss: 0.4555 - val_acc: 0.9200 - val_loss: 0.3580\n",
      "Epoch 53/200\n",
      "\u001b[1m5/5\u001b[0m \u001b[32m━━━━━━━━━━━━━━━━━━━━\u001b[0m\u001b[37m\u001b[0m \u001b[1m0s\u001b[0m 17ms/step - acc: 0.9000 - loss: 0.3637 - val_acc: 0.9000 - val_loss: 0.3849\n",
      "Epoch 54/200\n",
      "\u001b[1m5/5\u001b[0m \u001b[32m━━━━━━━━━━━━━━━━━━━━\u001b[0m\u001b[37m\u001b[0m \u001b[1m0s\u001b[0m 17ms/step - acc: 0.8200 - loss: 0.4188 - val_acc: 0.9400 - val_loss: 0.3535\n",
      "Epoch 55/200\n",
      "\u001b[1m5/5\u001b[0m \u001b[32m━━━━━━━━━━━━━━━━━━━━\u001b[0m\u001b[37m\u001b[0m \u001b[1m0s\u001b[0m 17ms/step - acc: 0.8533 - loss: 0.3924 - val_acc: 0.9000 - val_loss: 0.3430\n",
      "Epoch 56/200\n",
      "\u001b[1m5/5\u001b[0m \u001b[32m━━━━━━━━━━━━━━━━━━━━\u001b[0m\u001b[37m\u001b[0m \u001b[1m0s\u001b[0m 17ms/step - acc: 0.8733 - loss: 0.3909 - val_acc: 0.9200 - val_loss: 0.3520\n",
      "Epoch 57/200\n",
      "\u001b[1m5/5\u001b[0m \u001b[32m━━━━━━━━━━━━━━━━━━━━\u001b[0m\u001b[37m\u001b[0m \u001b[1m0s\u001b[0m 17ms/step - acc: 0.8533 - loss: 0.4206 - val_acc: 0.9600 - val_loss: 0.3262\n",
      "Epoch 58/200\n",
      "\u001b[1m5/5\u001b[0m \u001b[32m━━━━━━━━━━━━━━━━━━━━\u001b[0m\u001b[37m\u001b[0m \u001b[1m0s\u001b[0m 18ms/step - acc: 0.8067 - loss: 0.4341 - val_acc: 0.9400 - val_loss: 0.3282\n",
      "Epoch 59/200\n",
      "\u001b[1m5/5\u001b[0m \u001b[32m━━━━━━━━━━━━━━━━━━━━\u001b[0m\u001b[37m\u001b[0m \u001b[1m0s\u001b[0m 17ms/step - acc: 0.8733 - loss: 0.3215 - val_acc: 0.9200 - val_loss: 0.3461\n",
      "Epoch 60/200\n",
      "\u001b[1m5/5\u001b[0m \u001b[32m━━━━━━━━━━━━━━━━━━━━\u001b[0m\u001b[37m\u001b[0m \u001b[1m0s\u001b[0m 17ms/step - acc: 0.8867 - loss: 0.3215 - val_acc: 0.9200 - val_loss: 0.3351\n",
      "Epoch 61/200\n",
      "\u001b[1m5/5\u001b[0m \u001b[32m━━━━━━━━━━━━━━━━━━━━\u001b[0m\u001b[37m\u001b[0m \u001b[1m0s\u001b[0m 17ms/step - acc: 0.8400 - loss: 0.3439 - val_acc: 0.9400 - val_loss: 0.3052\n",
      "Epoch 62/200\n",
      "\u001b[1m5/5\u001b[0m \u001b[32m━━━━━━━━━━━━━━━━━━━━\u001b[0m\u001b[37m\u001b[0m \u001b[1m0s\u001b[0m 17ms/step - acc: 0.8933 - loss: 0.2782 - val_acc: 0.9400 - val_loss: 0.3251\n",
      "Epoch 63/200\n",
      "\u001b[1m5/5\u001b[0m \u001b[32m━━━━━━━━━━━━━━━━━━━━\u001b[0m\u001b[37m\u001b[0m \u001b[1m0s\u001b[0m 17ms/step - acc: 0.8600 - loss: 0.3516 - val_acc: 0.9200 - val_loss: 0.3054\n",
      "Epoch 64/200\n",
      "\u001b[1m5/5\u001b[0m \u001b[32m━━━━━━━━━━━━━━━━━━━━\u001b[0m\u001b[37m\u001b[0m \u001b[1m0s\u001b[0m 17ms/step - acc: 0.8867 - loss: 0.2892 - val_acc: 0.9200 - val_loss: 0.3146\n",
      "Epoch 65/200\n",
      "\u001b[1m5/5\u001b[0m \u001b[32m━━━━━━━━━━━━━━━━━━━━\u001b[0m\u001b[37m\u001b[0m \u001b[1m0s\u001b[0m 17ms/step - acc: 0.8800 - loss: 0.3413 - val_acc: 0.9000 - val_loss: 0.3399\n",
      "Epoch 66/200\n",
      "\u001b[1m5/5\u001b[0m \u001b[32m━━━━━━━━━━━━━━━━━━━━\u001b[0m\u001b[37m\u001b[0m \u001b[1m0s\u001b[0m 17ms/step - acc: 0.8667 - loss: 0.3467 - val_acc: 0.9400 - val_loss: 0.3122\n",
      "Epoch 67/200\n",
      "\u001b[1m5/5\u001b[0m \u001b[32m━━━━━━━━━━━━━━━━━━━━\u001b[0m\u001b[37m\u001b[0m \u001b[1m0s\u001b[0m 17ms/step - acc: 0.8933 - loss: 0.3171 - val_acc: 0.9400 - val_loss: 0.3012\n",
      "Epoch 68/200\n",
      "\u001b[1m5/5\u001b[0m \u001b[32m━━━━━━━━━━━━━━━━━━━━\u001b[0m\u001b[37m\u001b[0m \u001b[1m0s\u001b[0m 17ms/step - acc: 0.9533 - loss: 0.2523 - val_acc: 0.9400 - val_loss: 0.2792\n",
      "Epoch 69/200\n",
      "\u001b[1m5/5\u001b[0m \u001b[32m━━━━━━━━━━━━━━━━━━━━\u001b[0m\u001b[37m\u001b[0m \u001b[1m0s\u001b[0m 17ms/step - acc: 0.8933 - loss: 0.2739 - val_acc: 0.9600 - val_loss: 0.2857\n",
      "Epoch 70/200\n",
      "\u001b[1m5/5\u001b[0m \u001b[32m━━━━━━━━━━━━━━━━━━━━\u001b[0m\u001b[37m\u001b[0m \u001b[1m0s\u001b[0m 17ms/step - acc: 0.8800 - loss: 0.2774 - val_acc: 0.9200 - val_loss: 0.3138\n",
      "Epoch 71/200\n",
      "\u001b[1m5/5\u001b[0m \u001b[32m━━━━━━━━━━━━━━━━━━━━\u001b[0m\u001b[37m\u001b[0m \u001b[1m0s\u001b[0m 17ms/step - acc: 0.8667 - loss: 0.2949 - val_acc: 0.9400 - val_loss: 0.3059\n",
      "Epoch 72/200\n",
      "\u001b[1m5/5\u001b[0m \u001b[32m━━━━━━━━━━━━━━━━━━━━\u001b[0m\u001b[37m\u001b[0m \u001b[1m0s\u001b[0m 17ms/step - acc: 0.9067 - loss: 0.2678 - val_acc: 0.9400 - val_loss: 0.3019\n",
      "Epoch 73/200\n",
      "\u001b[1m5/5\u001b[0m \u001b[32m━━━━━━━━━━━━━━━━━━━━\u001b[0m\u001b[37m\u001b[0m \u001b[1m0s\u001b[0m 17ms/step - acc: 0.9000 - loss: 0.2815 - val_acc: 0.9400 - val_loss: 0.2918\n",
      "Epoch 74/200\n",
      "\u001b[1m5/5\u001b[0m \u001b[32m━━━━━━━━━━━━━━━━━━━━\u001b[0m\u001b[37m\u001b[0m \u001b[1m0s\u001b[0m 17ms/step - acc: 0.7933 - loss: 0.4091 - val_acc: 0.9400 - val_loss: 0.3289\n",
      "Epoch 75/200\n",
      "\u001b[1m5/5\u001b[0m \u001b[32m━━━━━━━━━━━━━━━━━━━━\u001b[0m\u001b[37m\u001b[0m \u001b[1m0s\u001b[0m 17ms/step - acc: 0.9267 - loss: 0.3144 - val_acc: 0.9200 - val_loss: 0.3145\n",
      "Epoch 76/200\n",
      "\u001b[1m5/5\u001b[0m \u001b[32m━━━━━━━━━━━━━━━━━━━━\u001b[0m\u001b[37m\u001b[0m \u001b[1m0s\u001b[0m 33ms/step - acc: 0.9267 - loss: 0.2547 - val_acc: 0.9600 - val_loss: 0.2854\n",
      "Epoch 77/200\n",
      "\u001b[1m5/5\u001b[0m \u001b[32m━━━━━━━━━━━━━━━━━━━━\u001b[0m\u001b[37m\u001b[0m \u001b[1m0s\u001b[0m 17ms/step - acc: 0.9000 - loss: 0.2874 - val_acc: 0.9200 - val_loss: 0.3068\n",
      "Epoch 78/200\n",
      "\u001b[1m5/5\u001b[0m \u001b[32m━━━━━━━━━━━━━━━━━━━━\u001b[0m\u001b[37m\u001b[0m \u001b[1m0s\u001b[0m 17ms/step - acc: 0.8933 - loss: 0.2881 - val_acc: 0.9200 - val_loss: 0.2928\n",
      "Epoch 79/200\n",
      "\u001b[1m5/5\u001b[0m \u001b[32m━━━━━━━━━━━━━━━━━━━━\u001b[0m\u001b[37m\u001b[0m \u001b[1m0s\u001b[0m 18ms/step - acc: 0.8933 - loss: 0.2647 - val_acc: 0.9200 - val_loss: 0.3458\n",
      "Epoch 80/200\n",
      "\u001b[1m5/5\u001b[0m \u001b[32m━━━━━━━━━━━━━━━━━━━━\u001b[0m\u001b[37m\u001b[0m \u001b[1m0s\u001b[0m 18ms/step - acc: 0.9000 - loss: 0.2798 - val_acc: 0.9000 - val_loss: 0.3161\n",
      "Epoch 81/200\n",
      "\u001b[1m5/5\u001b[0m \u001b[32m━━━━━━━━━━━━━━━━━━━━\u001b[0m\u001b[37m\u001b[0m \u001b[1m0s\u001b[0m 17ms/step - acc: 0.9067 - loss: 0.3087 - val_acc: 0.9400 - val_loss: 0.2948\n",
      "Epoch 82/200\n",
      "\u001b[1m5/5\u001b[0m \u001b[32m━━━━━━━━━━━━━━━━━━━━\u001b[0m\u001b[37m\u001b[0m \u001b[1m0s\u001b[0m 17ms/step - acc: 0.8800 - loss: 0.2743 - val_acc: 0.9200 - val_loss: 0.3409\n",
      "Epoch 83/200\n",
      "\u001b[1m5/5\u001b[0m \u001b[32m━━━━━━━━━━━━━━━━━━━━\u001b[0m\u001b[37m\u001b[0m \u001b[1m0s\u001b[0m 17ms/step - acc: 0.9400 - loss: 0.2178 - val_acc: 0.9200 - val_loss: 0.2870\n",
      "Epoch 84/200\n",
      "\u001b[1m5/5\u001b[0m \u001b[32m━━━━━━━━━━━━━━━━━━━━\u001b[0m\u001b[37m\u001b[0m \u001b[1m0s\u001b[0m 17ms/step - acc: 0.8800 - loss: 0.3484 - val_acc: 0.9400 - val_loss: 0.2996\n",
      "Epoch 85/200\n",
      "\u001b[1m5/5\u001b[0m \u001b[32m━━━━━━━━━━━━━━━━━━━━\u001b[0m\u001b[37m\u001b[0m \u001b[1m0s\u001b[0m 17ms/step - acc: 0.8800 - loss: 0.2607 - val_acc: 0.8600 - val_loss: 0.3536\n",
      "Epoch 86/200\n",
      "\u001b[1m5/5\u001b[0m \u001b[32m━━━━━━━━━━━━━━━━━━━━\u001b[0m\u001b[37m\u001b[0m \u001b[1m0s\u001b[0m 17ms/step - acc: 0.9133 - loss: 0.2831 - val_acc: 0.9400 - val_loss: 0.3072\n",
      "Epoch 87/200\n",
      "\u001b[1m5/5\u001b[0m \u001b[32m━━━━━━━━━━━━━━━━━━━━\u001b[0m\u001b[37m\u001b[0m \u001b[1m0s\u001b[0m 17ms/step - acc: 0.9000 - loss: 0.2766 - val_acc: 0.9400 - val_loss: 0.2821\n",
      "Epoch 88/200\n",
      "\u001b[1m5/5\u001b[0m \u001b[32m━━━━━━━━━━━━━━━━━━━━\u001b[0m\u001b[37m\u001b[0m \u001b[1m0s\u001b[0m 17ms/step - acc: 0.9067 - loss: 0.2671 - val_acc: 0.9200 - val_loss: 0.3037\n",
      "Epoch 89/200\n",
      "\u001b[1m5/5\u001b[0m \u001b[32m━━━━━━━━━━━━━━━━━━━━\u001b[0m\u001b[37m\u001b[0m \u001b[1m0s\u001b[0m 17ms/step - acc: 0.8867 - loss: 0.3166 - val_acc: 0.9200 - val_loss: 0.2962\n",
      "Epoch 90/200\n",
      "\u001b[1m5/5\u001b[0m \u001b[32m━━━━━━━━━━━━━━━━━━━━\u001b[0m\u001b[37m\u001b[0m \u001b[1m0s\u001b[0m 17ms/step - acc: 0.8867 - loss: 0.2666 - val_acc: 0.9600 - val_loss: 0.2909\n",
      "Epoch 91/200\n",
      "\u001b[1m5/5\u001b[0m \u001b[32m━━━━━━━━━━━━━━━━━━━━\u001b[0m\u001b[37m\u001b[0m \u001b[1m0s\u001b[0m 17ms/step - acc: 0.9133 - loss: 0.2526 - val_acc: 0.9200 - val_loss: 0.2671\n",
      "Epoch 92/200\n",
      "\u001b[1m5/5\u001b[0m \u001b[32m━━━━━━━━━━━━━━━━━━━━\u001b[0m\u001b[37m\u001b[0m \u001b[1m0s\u001b[0m 17ms/step - acc: 0.9333 - loss: 0.2165 - val_acc: 0.9400 - val_loss: 0.2697\n",
      "Epoch 93/200\n",
      "\u001b[1m5/5\u001b[0m \u001b[32m━━━━━━━━━━━━━━━━━━━━\u001b[0m\u001b[37m\u001b[0m \u001b[1m0s\u001b[0m 17ms/step - acc: 0.8800 - loss: 0.2621 - val_acc: 0.9600 - val_loss: 0.2865\n",
      "Epoch 94/200\n",
      "\u001b[1m5/5\u001b[0m \u001b[32m━━━━━━━━━━━━━━━━━━━━\u001b[0m\u001b[37m\u001b[0m \u001b[1m0s\u001b[0m 17ms/step - acc: 0.9067 - loss: 0.2183 - val_acc: 0.9200 - val_loss: 0.2747\n",
      "Epoch 95/200\n",
      "\u001b[1m5/5\u001b[0m \u001b[32m━━━━━━━━━━━━━━━━━━━━\u001b[0m\u001b[37m\u001b[0m \u001b[1m0s\u001b[0m 17ms/step - acc: 0.9133 - loss: 0.2528 - val_acc: 0.9200 - val_loss: 0.2910\n",
      "Epoch 96/200\n",
      "\u001b[1m5/5\u001b[0m \u001b[32m━━━━━━━━━━━━━━━━━━━━\u001b[0m\u001b[37m\u001b[0m \u001b[1m0s\u001b[0m 17ms/step - acc: 0.9200 - loss: 0.2102 - val_acc: 0.9600 - val_loss: 0.2784\n",
      "Epoch 97/200\n",
      "\u001b[1m5/5\u001b[0m \u001b[32m━━━━━━━━━━━━━━━━━━━━\u001b[0m\u001b[37m\u001b[0m \u001b[1m0s\u001b[0m 17ms/step - acc: 0.9267 - loss: 0.2328 - val_acc: 0.9400 - val_loss: 0.2715\n",
      "Epoch 98/200\n",
      "\u001b[1m5/5\u001b[0m \u001b[32m━━━━━━━━━━━━━━━━━━━━\u001b[0m\u001b[37m\u001b[0m \u001b[1m0s\u001b[0m 18ms/step - acc: 0.9133 - loss: 0.2396 - val_acc: 0.9600 - val_loss: 0.2725\n",
      "Epoch 99/200\n",
      "\u001b[1m5/5\u001b[0m \u001b[32m━━━━━━━━━━━━━━━━━━━━\u001b[0m\u001b[37m\u001b[0m \u001b[1m0s\u001b[0m 17ms/step - acc: 0.9333 - loss: 0.2242 - val_acc: 0.9600 - val_loss: 0.2708\n",
      "Epoch 100/200\n",
      "\u001b[1m5/5\u001b[0m \u001b[32m━━━━━━━━━━━━━━━━━━━━\u001b[0m\u001b[37m\u001b[0m \u001b[1m0s\u001b[0m 18ms/step - acc: 0.9600 - loss: 0.1890 - val_acc: 0.9400 - val_loss: 0.2892\n",
      "Epoch 101/200\n",
      "\u001b[1m5/5\u001b[0m \u001b[32m━━━━━━━━━━━━━━━━━━━━\u001b[0m\u001b[37m\u001b[0m \u001b[1m0s\u001b[0m 18ms/step - acc: 0.9067 - loss: 0.2664 - val_acc: 0.9600 - val_loss: 0.2751\n",
      "Epoch 102/200\n",
      "\u001b[1m5/5\u001b[0m \u001b[32m━━━━━━━━━━━━━━━━━━━━\u001b[0m\u001b[37m\u001b[0m \u001b[1m0s\u001b[0m 17ms/step - acc: 0.9267 - loss: 0.1934 - val_acc: 0.9400 - val_loss: 0.2695\n",
      "Epoch 103/200\n",
      "\u001b[1m5/5\u001b[0m \u001b[32m━━━━━━━━━━━━━━━━━━━━\u001b[0m\u001b[37m\u001b[0m \u001b[1m0s\u001b[0m 17ms/step - acc: 0.8800 - loss: 0.2662 - val_acc: 0.9400 - val_loss: 0.2856\n",
      "Epoch 104/200\n",
      "\u001b[1m5/5\u001b[0m \u001b[32m━━━━━━━━━━━━━━━━━━━━\u001b[0m\u001b[37m\u001b[0m \u001b[1m0s\u001b[0m 17ms/step - acc: 0.9400 - loss: 0.2110 - val_acc: 0.9600 - val_loss: 0.2722\n",
      "Epoch 105/200\n",
      "\u001b[1m5/5\u001b[0m \u001b[32m━━━━━━━━━━━━━━━━━━━━\u001b[0m\u001b[37m\u001b[0m \u001b[1m0s\u001b[0m 17ms/step - acc: 0.9067 - loss: 0.1949 - val_acc: 0.9200 - val_loss: 0.2662\n",
      "Epoch 106/200\n",
      "\u001b[1m5/5\u001b[0m \u001b[32m━━━━━━━━━━━━━━━━━━━━\u001b[0m\u001b[37m\u001b[0m \u001b[1m0s\u001b[0m 25ms/step - acc: 0.9333 - loss: 0.1810 - val_acc: 0.9600 - val_loss: 0.2767\n",
      "Epoch 107/200\n",
      "\u001b[1m5/5\u001b[0m \u001b[32m━━━━━━━━━━━━━━━━━━━━\u001b[0m\u001b[37m\u001b[0m \u001b[1m0s\u001b[0m 17ms/step - acc: 0.9267 - loss: 0.2027 - val_acc: 0.9000 - val_loss: 0.3198\n",
      "Epoch 108/200\n",
      "\u001b[1m5/5\u001b[0m \u001b[32m━━━━━━━━━━━━━━━━━━━━\u001b[0m\u001b[37m\u001b[0m \u001b[1m0s\u001b[0m 18ms/step - acc: 0.9400 - loss: 0.2384 - val_acc: 0.9200 - val_loss: 0.2637\n",
      "Epoch 109/200\n",
      "\u001b[1m5/5\u001b[0m \u001b[32m━━━━━━━━━━━━━━━━━━━━\u001b[0m\u001b[37m\u001b[0m \u001b[1m0s\u001b[0m 17ms/step - acc: 0.9267 - loss: 0.1884 - val_acc: 0.9200 - val_loss: 0.3216\n",
      "Epoch 110/200\n",
      "\u001b[1m5/5\u001b[0m \u001b[32m━━━━━━━━━━━━━━━━━━━━\u001b[0m\u001b[37m\u001b[0m \u001b[1m0s\u001b[0m 17ms/step - acc: 0.9133 - loss: 0.2174 - val_acc: 0.9200 - val_loss: 0.2670\n",
      "Epoch 111/200\n",
      "\u001b[1m5/5\u001b[0m \u001b[32m━━━━━━━━━━━━━━━━━━━━\u001b[0m\u001b[37m\u001b[0m \u001b[1m0s\u001b[0m 17ms/step - acc: 0.9067 - loss: 0.2242 - val_acc: 0.9400 - val_loss: 0.2525\n",
      "Epoch 112/200\n",
      "\u001b[1m5/5\u001b[0m \u001b[32m━━━━━━━━━━━━━━━━━━━━\u001b[0m\u001b[37m\u001b[0m \u001b[1m0s\u001b[0m 17ms/step - acc: 0.9267 - loss: 0.2045 - val_acc: 0.9600 - val_loss: 0.2792\n",
      "Epoch 113/200\n",
      "\u001b[1m5/5\u001b[0m \u001b[32m━━━━━━━━━━━━━━━━━━━━\u001b[0m\u001b[37m\u001b[0m \u001b[1m0s\u001b[0m 17ms/step - acc: 0.9333 - loss: 0.1824 - val_acc: 0.9400 - val_loss: 0.2552\n",
      "Epoch 114/200\n",
      "\u001b[1m5/5\u001b[0m \u001b[32m━━━━━━━━━━━━━━━━━━━━\u001b[0m\u001b[37m\u001b[0m \u001b[1m0s\u001b[0m 17ms/step - acc: 0.9200 - loss: 0.2122 - val_acc: 0.9600 - val_loss: 0.2756\n",
      "Epoch 115/200\n",
      "\u001b[1m5/5\u001b[0m \u001b[32m━━━━━━━━━━━━━━━━━━━━\u001b[0m\u001b[37m\u001b[0m \u001b[1m0s\u001b[0m 17ms/step - acc: 0.9267 - loss: 0.1813 - val_acc: 0.9400 - val_loss: 0.2558\n",
      "Epoch 116/200\n",
      "\u001b[1m5/5\u001b[0m \u001b[32m━━━━━━━━━━━━━━━━━━━━\u001b[0m\u001b[37m\u001b[0m \u001b[1m0s\u001b[0m 17ms/step - acc: 0.9400 - loss: 0.1979 - val_acc: 0.9200 - val_loss: 0.2859\n",
      "Epoch 117/200\n",
      "\u001b[1m5/5\u001b[0m \u001b[32m━━━━━━━━━━━━━━━━━━━━\u001b[0m\u001b[37m\u001b[0m \u001b[1m0s\u001b[0m 17ms/step - acc: 0.9000 - loss: 0.2338 - val_acc: 0.9600 - val_loss: 0.2580\n",
      "Epoch 118/200\n",
      "\u001b[1m5/5\u001b[0m \u001b[32m━━━━━━━━━━━━━━━━━━━━\u001b[0m\u001b[37m\u001b[0m \u001b[1m0s\u001b[0m 16ms/step - acc: 0.9533 - loss: 0.1485 - val_acc: 0.9600 - val_loss: 0.2616\n",
      "Epoch 119/200\n",
      "\u001b[1m5/5\u001b[0m \u001b[32m━━━━━━━━━━━━━━━━━━━━\u001b[0m\u001b[37m\u001b[0m \u001b[1m0s\u001b[0m 17ms/step - acc: 0.9600 - loss: 0.1789 - val_acc: 0.9400 - val_loss: 0.2779\n",
      "Epoch 120/200\n",
      "\u001b[1m5/5\u001b[0m \u001b[32m━━━━━━━━━━━━━━━━━━━━\u001b[0m\u001b[37m\u001b[0m \u001b[1m0s\u001b[0m 17ms/step - acc: 0.9333 - loss: 0.1799 - val_acc: 0.9600 - val_loss: 0.2615\n",
      "Epoch 121/200\n",
      "\u001b[1m5/5\u001b[0m \u001b[32m━━━━━━━━━━━━━━━━━━━━\u001b[0m\u001b[37m\u001b[0m \u001b[1m0s\u001b[0m 17ms/step - acc: 0.9400 - loss: 0.2276 - val_acc: 0.9400 - val_loss: 0.2672\n",
      "Epoch 122/200\n",
      "\u001b[1m5/5\u001b[0m \u001b[32m━━━━━━━━━━━━━━━━━━━━\u001b[0m\u001b[37m\u001b[0m \u001b[1m0s\u001b[0m 17ms/step - acc: 0.9467 - loss: 0.1755 - val_acc: 0.9800 - val_loss: 0.2302\n",
      "Epoch 123/200\n",
      "\u001b[1m5/5\u001b[0m \u001b[32m━━━━━━━━━━━━━━━━━━━━\u001b[0m\u001b[37m\u001b[0m \u001b[1m0s\u001b[0m 17ms/step - acc: 0.9333 - loss: 0.1809 - val_acc: 0.9400 - val_loss: 0.3058\n",
      "Epoch 124/200\n",
      "\u001b[1m5/5\u001b[0m \u001b[32m━━━━━━━━━━━━━━━━━━━━\u001b[0m\u001b[37m\u001b[0m \u001b[1m0s\u001b[0m 22ms/step - acc: 0.9333 - loss: 0.2677 - val_acc: 0.9600 - val_loss: 0.2656\n",
      "Epoch 125/200\n",
      "\u001b[1m5/5\u001b[0m \u001b[32m━━━━━━━━━━━━━━━━━━━━\u001b[0m\u001b[37m\u001b[0m \u001b[1m0s\u001b[0m 19ms/step - acc: 0.9333 - loss: 0.2277 - val_acc: 0.9200 - val_loss: 0.2850\n",
      "Epoch 126/200\n",
      "\u001b[1m5/5\u001b[0m \u001b[32m━━━━━━━━━━━━━━━━━━━━\u001b[0m\u001b[37m\u001b[0m \u001b[1m0s\u001b[0m 17ms/step - acc: 0.9400 - loss: 0.2297 - val_acc: 0.8800 - val_loss: 0.4393\n",
      "Epoch 127/200\n",
      "\u001b[1m5/5\u001b[0m \u001b[32m━━━━━━━━━━━━━━━━━━━━\u001b[0m\u001b[37m\u001b[0m \u001b[1m0s\u001b[0m 17ms/step - acc: 0.9200 - loss: 0.2267 - val_acc: 0.9200 - val_loss: 0.2719\n",
      "Epoch 128/200\n",
      "\u001b[1m5/5\u001b[0m \u001b[32m━━━━━━━━━━━━━━━━━━━━\u001b[0m\u001b[37m\u001b[0m \u001b[1m0s\u001b[0m 17ms/step - acc: 0.9467 - loss: 0.2052 - val_acc: 0.9400 - val_loss: 0.2989\n",
      "Epoch 129/200\n",
      "\u001b[1m5/5\u001b[0m \u001b[32m━━━━━━━━━━━━━━━━━━━━\u001b[0m\u001b[37m\u001b[0m \u001b[1m0s\u001b[0m 17ms/step - acc: 0.9267 - loss: 0.1813 - val_acc: 0.9200 - val_loss: 0.2357\n",
      "Epoch 130/200\n",
      "\u001b[1m5/5\u001b[0m \u001b[32m━━━━━━━━━━━━━━━━━━━━\u001b[0m\u001b[37m\u001b[0m \u001b[1m0s\u001b[0m 17ms/step - acc: 0.9067 - loss: 0.2179 - val_acc: 0.9600 - val_loss: 0.2470\n",
      "Epoch 131/200\n",
      "\u001b[1m5/5\u001b[0m \u001b[32m━━━━━━━━━━━━━━━━━━━━\u001b[0m\u001b[37m\u001b[0m \u001b[1m0s\u001b[0m 17ms/step - acc: 0.9333 - loss: 0.1736 - val_acc: 0.9000 - val_loss: 0.2725\n",
      "Epoch 132/200\n",
      "\u001b[1m5/5\u001b[0m \u001b[32m━━━━━━━━━━━━━━━━━━━━\u001b[0m\u001b[37m\u001b[0m \u001b[1m0s\u001b[0m 17ms/step - acc: 0.9267 - loss: 0.2133 - val_acc: 0.9400 - val_loss: 0.2862\n",
      "Epoch 133/200\n",
      "\u001b[1m5/5\u001b[0m \u001b[32m━━━━━━━━━━━━━━━━━━━━\u001b[0m\u001b[37m\u001b[0m \u001b[1m0s\u001b[0m 17ms/step - acc: 0.9467 - loss: 0.1542 - val_acc: 0.9600 - val_loss: 0.2574\n",
      "Epoch 134/200\n",
      "\u001b[1m5/5\u001b[0m \u001b[32m━━━━━━━━━━━━━━━━━━━━\u001b[0m\u001b[37m\u001b[0m \u001b[1m0s\u001b[0m 17ms/step - acc: 0.9600 - loss: 0.1407 - val_acc: 0.9600 - val_loss: 0.2540\n",
      "Epoch 135/200\n",
      "\u001b[1m5/5\u001b[0m \u001b[32m━━━━━━━━━━━━━━━━━━━━\u001b[0m\u001b[37m\u001b[0m \u001b[1m0s\u001b[0m 17ms/step - acc: 0.9733 - loss: 0.1302 - val_acc: 0.9600 - val_loss: 0.2638\n",
      "Epoch 136/200\n",
      "\u001b[1m5/5\u001b[0m \u001b[32m━━━━━━━━━━━━━━━━━━━━\u001b[0m\u001b[37m\u001b[0m \u001b[1m0s\u001b[0m 17ms/step - acc: 0.9533 - loss: 0.1365 - val_acc: 0.9600 - val_loss: 0.2472\n",
      "Epoch 137/200\n",
      "\u001b[1m5/5\u001b[0m \u001b[32m━━━━━━━━━━━━━━━━━━━━\u001b[0m\u001b[37m\u001b[0m \u001b[1m0s\u001b[0m 17ms/step - acc: 0.9600 - loss: 0.1504 - val_acc: 0.9400 - val_loss: 0.2610\n",
      "Epoch 138/200\n",
      "\u001b[1m5/5\u001b[0m \u001b[32m━━━━━━━━━━━━━━━━━━━━\u001b[0m\u001b[37m\u001b[0m \u001b[1m0s\u001b[0m 17ms/step - acc: 0.9267 - loss: 0.1793 - val_acc: 0.9400 - val_loss: 0.2807\n",
      "Epoch 139/200\n",
      "\u001b[1m5/5\u001b[0m \u001b[32m━━━━━━━━━━━━━━━━━━━━\u001b[0m\u001b[37m\u001b[0m \u001b[1m0s\u001b[0m 17ms/step - acc: 0.9333 - loss: 0.1626 - val_acc: 0.9600 - val_loss: 0.2658\n",
      "Epoch 140/200\n",
      "\u001b[1m5/5\u001b[0m \u001b[32m━━━━━━━━━━━━━━━━━━━━\u001b[0m\u001b[37m\u001b[0m \u001b[1m0s\u001b[0m 17ms/step - acc: 0.9267 - loss: 0.1952 - val_acc: 0.9200 - val_loss: 0.3269\n",
      "Epoch 141/200\n",
      "\u001b[1m5/5\u001b[0m \u001b[32m━━━━━━━━━━━━━━━━━━━━\u001b[0m\u001b[37m\u001b[0m \u001b[1m0s\u001b[0m 17ms/step - acc: 0.9533 - loss: 0.1805 - val_acc: 0.9400 - val_loss: 0.2992\n",
      "Epoch 142/200\n",
      "\u001b[1m5/5\u001b[0m \u001b[32m━━━━━━━━━━━━━━━━━━━━\u001b[0m\u001b[37m\u001b[0m \u001b[1m0s\u001b[0m 17ms/step - acc: 0.9533 - loss: 0.1734 - val_acc: 0.9200 - val_loss: 0.2832\n",
      "Epoch 143/200\n",
      "\u001b[1m5/5\u001b[0m \u001b[32m━━━━━━━━━━━━━━━━━━━━\u001b[0m\u001b[37m\u001b[0m \u001b[1m0s\u001b[0m 17ms/step - acc: 0.9533 - loss: 0.1311 - val_acc: 0.9600 - val_loss: 0.2849\n",
      "Epoch 144/200\n",
      "\u001b[1m5/5\u001b[0m \u001b[32m━━━━━━━━━━━━━━━━━━━━\u001b[0m\u001b[37m\u001b[0m \u001b[1m0s\u001b[0m 17ms/step - acc: 0.9267 - loss: 0.2010 - val_acc: 0.9600 - val_loss: 0.2709\n",
      "Epoch 145/200\n",
      "\u001b[1m5/5\u001b[0m \u001b[32m━━━━━━━━━━━━━━━━━━━━\u001b[0m\u001b[37m\u001b[0m \u001b[1m0s\u001b[0m 32ms/step - acc: 0.9400 - loss: 0.1556 - val_acc: 0.9400 - val_loss: 0.3177\n",
      "Epoch 146/200\n",
      "\u001b[1m5/5\u001b[0m \u001b[32m━━━━━━━━━━━━━━━━━━━━\u001b[0m\u001b[37m\u001b[0m \u001b[1m0s\u001b[0m 17ms/step - acc: 0.9200 - loss: 0.1889 - val_acc: 0.9200 - val_loss: 0.3236\n",
      "Epoch 147/200\n",
      "\u001b[1m5/5\u001b[0m \u001b[32m━━━━━━━━━━━━━━━━━━━━\u001b[0m\u001b[37m\u001b[0m \u001b[1m0s\u001b[0m 17ms/step - acc: 0.9267 - loss: 0.1927 - val_acc: 0.9200 - val_loss: 0.2919\n",
      "Epoch 148/200\n",
      "\u001b[1m5/5\u001b[0m \u001b[32m━━━━━━━━━━━━━━━━━━━━\u001b[0m\u001b[37m\u001b[0m \u001b[1m0s\u001b[0m 17ms/step - acc: 0.9600 - loss: 0.1442 - val_acc: 0.9400 - val_loss: 0.2888\n",
      "Epoch 149/200\n",
      "\u001b[1m5/5\u001b[0m \u001b[32m━━━━━━━━━━━━━━━━━━━━\u001b[0m\u001b[37m\u001b[0m \u001b[1m0s\u001b[0m 17ms/step - acc: 0.9133 - loss: 0.1935 - val_acc: 0.9400 - val_loss: 0.3386\n",
      "Epoch 150/200\n",
      "\u001b[1m5/5\u001b[0m \u001b[32m━━━━━━━━━━━━━━━━━━━━\u001b[0m\u001b[37m\u001b[0m \u001b[1m0s\u001b[0m 17ms/step - acc: 0.9467 - loss: 0.1686 - val_acc: 0.9600 - val_loss: 0.3096\n",
      "Epoch 151/200\n",
      "\u001b[1m5/5\u001b[0m \u001b[32m━━━━━━━━━━━━━━━━━━━━\u001b[0m\u001b[37m\u001b[0m \u001b[1m0s\u001b[0m 17ms/step - acc: 0.9400 - loss: 0.1741 - val_acc: 0.9200 - val_loss: 0.2924\n",
      "Epoch 152/200\n",
      "\u001b[1m5/5\u001b[0m \u001b[32m━━━━━━━━━━━━━━━━━━━━\u001b[0m\u001b[37m\u001b[0m \u001b[1m0s\u001b[0m 17ms/step - acc: 0.9600 - loss: 0.1445 - val_acc: 0.9200 - val_loss: 0.3274\n",
      "Epoch 153/200\n",
      "\u001b[1m5/5\u001b[0m \u001b[32m━━━━━━━━━━━━━━━━━━━━\u001b[0m\u001b[37m\u001b[0m \u001b[1m0s\u001b[0m 17ms/step - acc: 0.9467 - loss: 0.1614 - val_acc: 0.9600 - val_loss: 0.2914\n",
      "Epoch 154/200\n",
      "\u001b[1m5/5\u001b[0m \u001b[32m━━━━━━━━━━━━━━━━━━━━\u001b[0m\u001b[37m\u001b[0m \u001b[1m0s\u001b[0m 17ms/step - acc: 0.9533 - loss: 0.1142 - val_acc: 0.9200 - val_loss: 0.3341\n",
      "Epoch 155/200\n",
      "\u001b[1m5/5\u001b[0m \u001b[32m━━━━━━━━━━━━━━━━━━━━\u001b[0m\u001b[37m\u001b[0m \u001b[1m0s\u001b[0m 17ms/step - acc: 0.9600 - loss: 0.1219 - val_acc: 0.9200 - val_loss: 0.3645\n",
      "Epoch 156/200\n",
      "\u001b[1m5/5\u001b[0m \u001b[32m━━━━━━━━━━━━━━━━━━━━\u001b[0m\u001b[37m\u001b[0m \u001b[1m0s\u001b[0m 17ms/step - acc: 0.9667 - loss: 0.1081 - val_acc: 0.9400 - val_loss: 0.3061\n",
      "Epoch 157/200\n",
      "\u001b[1m5/5\u001b[0m \u001b[32m━━━━━━━━━━━━━━━━━━━━\u001b[0m\u001b[37m\u001b[0m \u001b[1m0s\u001b[0m 17ms/step - acc: 0.9333 - loss: 0.1543 - val_acc: 0.9800 - val_loss: 0.2695\n",
      "Epoch 158/200\n",
      "\u001b[1m5/5\u001b[0m \u001b[32m━━━━━━━━━━━━━━━━━━━━\u001b[0m\u001b[37m\u001b[0m \u001b[1m0s\u001b[0m 17ms/step - acc: 0.9533 - loss: 0.1103 - val_acc: 0.9200 - val_loss: 0.3176\n",
      "Epoch 159/200\n",
      "\u001b[1m5/5\u001b[0m \u001b[32m━━━━━━━━━━━━━━━━━━━━\u001b[0m\u001b[37m\u001b[0m \u001b[1m0s\u001b[0m 17ms/step - acc: 0.9467 - loss: 0.1319 - val_acc: 0.9400 - val_loss: 0.3071\n",
      "Epoch 160/200\n",
      "\u001b[1m5/5\u001b[0m \u001b[32m━━━━━━━━━━━━━━━━━━━━\u001b[0m\u001b[37m\u001b[0m \u001b[1m0s\u001b[0m 17ms/step - acc: 0.9600 - loss: 0.1346 - val_acc: 0.9400 - val_loss: 0.3057\n",
      "Epoch 161/200\n",
      "\u001b[1m5/5\u001b[0m \u001b[32m━━━━━━━━━━━━━━━━━━━━\u001b[0m\u001b[37m\u001b[0m \u001b[1m0s\u001b[0m 17ms/step - acc: 0.9267 - loss: 0.1973 - val_acc: 0.9000 - val_loss: 0.3224\n",
      "Epoch 162/200\n",
      "\u001b[1m5/5\u001b[0m \u001b[32m━━━━━━━━━━━━━━━━━━━━\u001b[0m\u001b[37m\u001b[0m \u001b[1m0s\u001b[0m 17ms/step - acc: 0.9333 - loss: 0.1940 - val_acc: 0.9200 - val_loss: 0.3135\n",
      "Epoch 163/200\n",
      "\u001b[1m5/5\u001b[0m \u001b[32m━━━━━━━━━━━━━━━━━━━━\u001b[0m\u001b[37m\u001b[0m \u001b[1m0s\u001b[0m 17ms/step - acc: 0.9400 - loss: 0.1737 - val_acc: 0.9200 - val_loss: 0.3411\n",
      "Epoch 164/200\n",
      "\u001b[1m5/5\u001b[0m \u001b[32m━━━━━━━━━━━━━━━━━━━━\u001b[0m\u001b[37m\u001b[0m \u001b[1m0s\u001b[0m 17ms/step - acc: 0.9333 - loss: 0.1608 - val_acc: 0.9200 - val_loss: 0.3511\n",
      "Epoch 165/200\n",
      "\u001b[1m5/5\u001b[0m \u001b[32m━━━━━━━━━━━━━━━━━━━━\u001b[0m\u001b[37m\u001b[0m \u001b[1m0s\u001b[0m 17ms/step - acc: 0.9333 - loss: 0.1793 - val_acc: 0.9200 - val_loss: 0.3269\n",
      "Epoch 166/200\n",
      "\u001b[1m5/5\u001b[0m \u001b[32m━━━━━━━━━━━━━━━━━━━━\u001b[0m\u001b[37m\u001b[0m \u001b[1m0s\u001b[0m 17ms/step - acc: 0.9333 - loss: 0.1903 - val_acc: 0.9200 - val_loss: 0.3689\n",
      "Epoch 167/200\n",
      "\u001b[1m5/5\u001b[0m \u001b[32m━━━━━━━━━━━━━━━━━━━━\u001b[0m\u001b[37m\u001b[0m \u001b[1m0s\u001b[0m 19ms/step - acc: 0.9333 - loss: 0.1775 - val_acc: 0.9400 - val_loss: 0.3168\n",
      "Epoch 168/200\n",
      "\u001b[1m5/5\u001b[0m \u001b[32m━━━━━━━━━━━━━━━━━━━━\u001b[0m\u001b[37m\u001b[0m \u001b[1m0s\u001b[0m 18ms/step - acc: 0.9533 - loss: 0.1347 - val_acc: 0.9000 - val_loss: 0.3374\n",
      "Epoch 169/200\n",
      "\u001b[1m5/5\u001b[0m \u001b[32m━━━━━━━━━━━━━━━━━━━━\u001b[0m\u001b[37m\u001b[0m \u001b[1m0s\u001b[0m 16ms/step - acc: 0.9400 - loss: 0.1897 - val_acc: 0.9400 - val_loss: 0.3108\n",
      "Epoch 170/200\n",
      "\u001b[1m5/5\u001b[0m \u001b[32m━━━━━━━━━━━━━━━━━━━━\u001b[0m\u001b[37m\u001b[0m \u001b[1m0s\u001b[0m 17ms/step - acc: 0.9467 - loss: 0.1587 - val_acc: 0.9200 - val_loss: 0.2876\n",
      "Epoch 171/200\n",
      "\u001b[1m5/5\u001b[0m \u001b[32m━━━━━━━━━━━━━━━━━━━━\u001b[0m\u001b[37m\u001b[0m \u001b[1m0s\u001b[0m 17ms/step - acc: 0.9667 - loss: 0.1266 - val_acc: 0.9200 - val_loss: 0.3465\n",
      "Epoch 172/200\n",
      "\u001b[1m5/5\u001b[0m \u001b[32m━━━━━━━━━━━━━━━━━━━━\u001b[0m\u001b[37m\u001b[0m \u001b[1m0s\u001b[0m 17ms/step - acc: 0.9733 - loss: 0.0968 - val_acc: 0.9800 - val_loss: 0.2696\n",
      "Epoch 173/200\n",
      "\u001b[1m5/5\u001b[0m \u001b[32m━━━━━━━━━━━━━━━━━━━━\u001b[0m\u001b[37m\u001b[0m \u001b[1m0s\u001b[0m 17ms/step - acc: 0.9400 - loss: 0.1374 - val_acc: 0.9600 - val_loss: 0.2846\n",
      "Epoch 174/200\n",
      "\u001b[1m5/5\u001b[0m \u001b[32m━━━━━━━━━━━━━━━━━━━━\u001b[0m\u001b[37m\u001b[0m \u001b[1m0s\u001b[0m 17ms/step - acc: 0.9667 - loss: 0.1225 - val_acc: 0.9200 - val_loss: 0.3460\n",
      "Epoch 175/200\n",
      "\u001b[1m5/5\u001b[0m \u001b[32m━━━━━━━━━━━━━━━━━━━━\u001b[0m\u001b[37m\u001b[0m \u001b[1m0s\u001b[0m 17ms/step - acc: 0.9333 - loss: 0.1347 - val_acc: 0.9400 - val_loss: 0.3108\n",
      "Epoch 176/200\n",
      "\u001b[1m5/5\u001b[0m \u001b[32m━━━━━━━━━━━━━━━━━━━━\u001b[0m\u001b[37m\u001b[0m \u001b[1m0s\u001b[0m 17ms/step - acc: 0.9467 - loss: 0.1548 - val_acc: 0.9200 - val_loss: 0.3193\n",
      "Epoch 177/200\n",
      "\u001b[1m5/5\u001b[0m \u001b[32m━━━━━━━━━━━━━━━━━━━━\u001b[0m\u001b[37m\u001b[0m \u001b[1m0s\u001b[0m 18ms/step - acc: 0.9667 - loss: 0.1120 - val_acc: 0.9400 - val_loss: 0.3202\n",
      "Epoch 178/200\n",
      "\u001b[1m5/5\u001b[0m \u001b[32m━━━━━━━━━━━━━━━━━━━━\u001b[0m\u001b[37m\u001b[0m \u001b[1m0s\u001b[0m 17ms/step - acc: 0.9600 - loss: 0.1250 - val_acc: 0.9800 - val_loss: 0.2759\n",
      "Epoch 179/200\n",
      "\u001b[1m5/5\u001b[0m \u001b[32m━━━━━━━━━━━━━━━━━━━━\u001b[0m\u001b[37m\u001b[0m \u001b[1m0s\u001b[0m 17ms/step - acc: 0.9600 - loss: 0.1351 - val_acc: 0.9600 - val_loss: 0.2874\n",
      "Epoch 180/200\n",
      "\u001b[1m5/5\u001b[0m \u001b[32m━━━━━━━━━━━━━━━━━━━━\u001b[0m\u001b[37m\u001b[0m \u001b[1m0s\u001b[0m 17ms/step - acc: 0.9733 - loss: 0.1055 - val_acc: 0.9400 - val_loss: 0.2891\n",
      "Epoch 181/200\n",
      "\u001b[1m5/5\u001b[0m \u001b[32m━━━━━━━━━━━━━━━━━━━━\u001b[0m\u001b[37m\u001b[0m \u001b[1m0s\u001b[0m 17ms/step - acc: 0.9667 - loss: 0.1042 - val_acc: 0.9600 - val_loss: 0.2817\n",
      "Epoch 182/200\n",
      "\u001b[1m5/5\u001b[0m \u001b[32m━━━━━━━━━━━━━━━━━━━━\u001b[0m\u001b[37m\u001b[0m \u001b[1m0s\u001b[0m 17ms/step - acc: 0.9733 - loss: 0.0955 - val_acc: 0.9200 - val_loss: 0.3013\n",
      "Epoch 183/200\n",
      "\u001b[1m5/5\u001b[0m \u001b[32m━━━━━━━━━━━━━━━━━━━━\u001b[0m\u001b[37m\u001b[0m \u001b[1m0s\u001b[0m 17ms/step - acc: 0.9733 - loss: 0.1038 - val_acc: 0.9400 - val_loss: 0.2868\n",
      "Epoch 184/200\n",
      "\u001b[1m5/5\u001b[0m \u001b[32m━━━━━━━━━━━━━━━━━━━━\u001b[0m\u001b[37m\u001b[0m \u001b[1m0s\u001b[0m 17ms/step - acc: 0.9800 - loss: 0.1200 - val_acc: 0.9400 - val_loss: 0.2763\n",
      "Epoch 185/200\n",
      "\u001b[1m5/5\u001b[0m \u001b[32m━━━━━━━━━━━━━━━━━━━━\u001b[0m\u001b[37m\u001b[0m \u001b[1m0s\u001b[0m 17ms/step - acc: 0.9800 - loss: 0.0812 - val_acc: 0.9400 - val_loss: 0.2882\n",
      "Epoch 186/200\n",
      "\u001b[1m5/5\u001b[0m \u001b[32m━━━━━━━━━━━━━━━━━━━━\u001b[0m\u001b[37m\u001b[0m \u001b[1m0s\u001b[0m 17ms/step - acc: 0.9467 - loss: 0.1080 - val_acc: 0.9400 - val_loss: 0.2968\n",
      "Epoch 187/200\n",
      "\u001b[1m5/5\u001b[0m \u001b[32m━━━━━━━━━━━━━━━━━━━━\u001b[0m\u001b[37m\u001b[0m \u001b[1m0s\u001b[0m 17ms/step - acc: 0.9400 - loss: 0.1454 - val_acc: 0.9600 - val_loss: 0.2648\n",
      "Epoch 188/200\n",
      "\u001b[1m5/5\u001b[0m \u001b[32m━━━━━━━━━━━━━━━━━━━━\u001b[0m\u001b[37m\u001b[0m \u001b[1m0s\u001b[0m 17ms/step - acc: 0.9333 - loss: 0.1856 - val_acc: 0.9200 - val_loss: 0.3135\n",
      "Epoch 189/200\n",
      "\u001b[1m5/5\u001b[0m \u001b[32m━━━━━━━━━━━━━━━━━━━━\u001b[0m\u001b[37m\u001b[0m \u001b[1m0s\u001b[0m 17ms/step - acc: 0.9533 - loss: 0.0980 - val_acc: 0.9600 - val_loss: 0.2828\n",
      "Epoch 190/200\n",
      "\u001b[1m5/5\u001b[0m \u001b[32m━━━━━━━━━━━━━━━━━━━━\u001b[0m\u001b[37m\u001b[0m \u001b[1m0s\u001b[0m 21ms/step - acc: 0.9400 - loss: 0.1644 - val_acc: 0.9400 - val_loss: 0.3076\n",
      "Epoch 191/200\n",
      "\u001b[1m5/5\u001b[0m \u001b[32m━━━━━━━━━━━━━━━━━━━━\u001b[0m\u001b[37m\u001b[0m \u001b[1m0s\u001b[0m 21ms/step - acc: 0.9600 - loss: 0.1353 - val_acc: 0.9200 - val_loss: 0.3365\n",
      "Epoch 192/200\n",
      "\u001b[1m5/5\u001b[0m \u001b[32m━━━━━━━━━━━━━━━━━━━━\u001b[0m\u001b[37m\u001b[0m \u001b[1m0s\u001b[0m 20ms/step - acc: 0.9467 - loss: 0.1582 - val_acc: 0.9200 - val_loss: 0.3602\n",
      "Epoch 193/200\n",
      "\u001b[1m5/5\u001b[0m \u001b[32m━━━━━━━━━━━━━━━━━━━━\u001b[0m\u001b[37m\u001b[0m \u001b[1m0s\u001b[0m 19ms/step - acc: 0.9333 - loss: 0.1723 - val_acc: 0.9600 - val_loss: 0.2657\n",
      "Epoch 194/200\n",
      "\u001b[1m5/5\u001b[0m \u001b[32m━━━━━━━━━━━━━━━━━━━━\u001b[0m\u001b[37m\u001b[0m \u001b[1m0s\u001b[0m 17ms/step - acc: 0.9400 - loss: 0.1940 - val_acc: 0.9600 - val_loss: 0.2480\n",
      "Epoch 195/200\n",
      "\u001b[1m5/5\u001b[0m \u001b[32m━━━━━━━━━━━━━━━━━━━━\u001b[0m\u001b[37m\u001b[0m \u001b[1m0s\u001b[0m 17ms/step - acc: 0.9533 - loss: 0.1161 - val_acc: 0.9400 - val_loss: 0.3080\n",
      "Epoch 196/200\n",
      "\u001b[1m5/5\u001b[0m \u001b[32m━━━━━━━━━━━━━━━━━━━━\u001b[0m\u001b[37m\u001b[0m \u001b[1m0s\u001b[0m 17ms/step - acc: 0.9800 - loss: 0.0768 - val_acc: 0.9600 - val_loss: 0.2836\n",
      "Epoch 197/200\n",
      "\u001b[1m5/5\u001b[0m \u001b[32m━━━━━━━━━━━━━━━━━━━━\u001b[0m\u001b[37m\u001b[0m \u001b[1m0s\u001b[0m 17ms/step - acc: 0.9600 - loss: 0.1112 - val_acc: 0.9400 - val_loss: 0.3015\n",
      "Epoch 198/200\n",
      "\u001b[1m5/5\u001b[0m \u001b[32m━━━━━━━━━━━━━━━━━━━━\u001b[0m\u001b[37m\u001b[0m \u001b[1m0s\u001b[0m 17ms/step - acc: 0.9667 - loss: 0.0837 - val_acc: 0.9200 - val_loss: 0.2887\n",
      "Epoch 199/200\n",
      "\u001b[1m5/5\u001b[0m \u001b[32m━━━━━━━━━━━━━━━━━━━━\u001b[0m\u001b[37m\u001b[0m \u001b[1m0s\u001b[0m 17ms/step - acc: 0.9733 - loss: 0.1026 - val_acc: 0.9200 - val_loss: 0.3428\n",
      "Epoch 200/200\n",
      "\u001b[1m5/5\u001b[0m \u001b[32m━━━━━━━━━━━━━━━━━━━━\u001b[0m\u001b[37m\u001b[0m \u001b[1m0s\u001b[0m 17ms/step - acc: 0.9533 - loss: 0.1214 - val_acc: 0.9400 - val_loss: 0.2874\n"
     ]
    }
   ],
   "source": [
    "### Train the model\n",
    "history = model.fit(X_train,\n",
    "                    Y_train,\n",
    "                    batch_size=32,\n",
    "                    epochs=200,\n",
    "                    verbose=1,\n",
    "                    validation_data=(X_val, Y_val))"
   ]
  },
  {
   "cell_type": "code",
   "execution_count": 16,
   "id": "39658a4f",
   "metadata": {},
   "outputs": [
    {
     "data": {
      "image/png": "[encoded data removed]",
      "text/plain": [
       "<Figure size 640x480 with 1 Axes>"
      ]
     },
     "metadata": {},
     "output_type": "display_data"
    },
    {
     "data": {
      "image/png": "[encoded data removed]",
      "text/plain": [
       "<Figure size 640x480 with 1 Axes>"
      ]
     },
     "metadata": {},
     "output_type": "display_data"
    }
   ],
   "source": [
    "### Plot training and validation accuracy and loss over time\n",
    "\n",
    "# Extract accuracy and loss values (in list form) from the history\n",
    "acc = history.history['acc']\n",
    "val_acc = history.history['val_acc']\n",
    "loss = history.history['loss']\n",
    "val_loss = history.history['val_loss']\n",
    "\n",
    "# Create a list of epoch numbers\n",
    "epochs = range(1, len(acc) + 1)\n",
    "\n",
    "# Plot training and validation loss values over time\n",
    "plt.figure()\n",
    "plt.plot(epochs, loss, color='blue', marker='.', label='Training loss')\n",
    "plt.plot(epochs, val_loss, color='orange', marker='.', label='Validation loss')\n",
    "plt.title('Training and validation loss')\n",
    "plt.legend()\n",
    "\n",
    "# Plot training and validation accuracies over time\n",
    "plt.figure()\n",
    "plt.plot(epochs, acc, color='blue', marker='.', label='Training acc')\n",
    "plt.plot(epochs, val_acc, color='orange', marker='.', label='Validation acc')\n",
    "plt.title('Training and validation accuracy')\n",
    "plt.legend()\n",
    "plt.show()"
   ]
  },
  {
   "cell_type": "code",
   "execution_count": 37,
   "id": "bc65de05",
   "metadata": {},
   "outputs": [
    {
     "name": "stdout",
     "output_type": "stream",
     "text": [
      "\u001b[1m1/1\u001b[0m \u001b[32m━━━━━━━━━━━━━━━━━━━━\u001b[0m\u001b[37m\u001b[0m \u001b[1m0s\u001b[0m 44ms/step\n",
      "Model output: [[1.0837699e-04 6.0715061e-05 5.4321628e-02 3.4465727e-03 9.4206274e-01]]\n",
      "Predicted label: 4 - resistor\n",
      "Actual label: 4 - resistor\n"
     ]
    }
   ],
   "source": [
    "### Try predicting label with one validation sample (inference)\n",
    "\n",
    "# Change this to try a different sample from the test set\n",
    "idx = 49\n",
    "\n",
    "# Make sample 2D array instead of 1D vector (this is what the Keras model expects as input)\n",
    "x = np.expand_dims(X_val[idx], 0)\n",
    "\n",
    "# Make prediction using trained model\n",
    "y_pred = model.predict(x)\n",
    "\n",
    "# Find index of highest score in output\n",
    "predicted_label = np.argmax(y_pred)\n",
    "actual_label = np.argmax(Y_val[idx])\n",
    "\n",
    "# Display model output, predicted label, actual label\n",
    "print(\"Model output:\", y_pred)\n",
    "print(\"Predicted label:\", predicted_label, \"-\", labels[predicted_label])\n",
    "print(\"Actual label:\", actual_label, \"-\", labels[actual_label])"
   ]
  },
  {
   "cell_type": "code",
   "execution_count": 38,
   "id": "068e0c68",
   "metadata": {},
   "outputs": [
    {
     "name": "stdout",
     "output_type": "stream",
     "text": [
      "\u001b[1m2/2\u001b[0m \u001b[32m━━━━━━━━━━━━━━━━━━━━\u001b[0m\u001b[37m\u001b[0m \u001b[1m0s\u001b[0m 23ms/step\n",
      "Validation output shape: (50, 5)\n",
      "Actual validation labels:\t [1 1 2 1 0 3 4 3 4 0 3 1 1 1 4 0 4 0 4 0 2 2 4 1 2 4 0 4 2 3 3 0 2 0 4 4 3\n",
      " 0 0 2 2 4 0 1 2 3 0 1 4 4]\n",
      "Predicted validation labels:\t [1 3 2 1 0 3 2 3 4 0 3 1 1 1 4 0 1 0 4 0 2 2 4 1 2 4 0 4 2 3 3 0 2 0 4 4 3\n",
      " 0 0 2 2 4 0 1 2 3 0 1 4 4]\n",
      "\n",
      " ---> Predicted labels\n",
      "|\n",
      "v Actual labels\n",
      "\t\t\t(0)    (1)    (2)    (3)    (4)   \n",
      "  background (0):  [    12      0      0      0      0]\n",
      "   capacitor (1):  [     0      8      0      0      1]\n",
      "       diode (2):  [     0      0      9      0      1]\n",
      "         led (3):  [     0      1      0      7      0]\n",
      "    resistor (4):  [     0      0      0      0     11]\n"
     ]
    }
   ],
   "source": [
    "### Create confusion matrix from validation set\n",
    "\n",
    "# Find predictions from all validation samples\n",
    "Y_pred = model.predict(X_val)\n",
    "print(\"Validation output shape:\", Y_pred.shape)\n",
    "\n",
    "# Convert actual and predicted validation one-hot encoding to numerical labels\n",
    "y_val = np.argmax(Y_val, axis=1)\n",
    "y_pred = np.argmax(Y_pred, axis=1)\n",
    "\n",
    "# Print some values from actual and predicted validation sets (first 50 samples)\n",
    "print(\"Actual validation labels:\\t\", y_val[:50])\n",
    "print(\"Predicted validation labels:\\t\", y_pred[:50])\n",
    "\n",
    "# Compute confusion matrix (note: we need to transpose SKLearn matrix to make it match Edge Impulse)\n",
    "cm = confusion_matrix(y_val, y_pred)\n",
    "cm = np.transpose(cm)\n",
    "\n",
    "# Print confusion matrix\n",
    "print()\n",
    "print(\" ---> Predicted labels\")\n",
    "print(\"|\")\n",
    "print(\"v Actual labels\")\n",
    "print(\"\\t\\t\\t\" + ' '.join(\"{!s:6}\".format('(' + str(i) + ')') for i in range(num_classes)))\n",
    "for row in range(num_classes):\n",
    "  print(\"{:>12} ({}):  [{}]\".format(labels[row], row, ' '.join(\"{:6}\".format(i) for i in cm[row])))"
   ]
  },
  {
   "cell_type": "code",
   "execution_count": 39,
   "id": "6086ade2",
   "metadata": {},
   "outputs": [
    {
     "name": "stdout",
     "output_type": "stream",
     "text": [
      "\u001b[1m2/2\u001b[0m \u001b[32m━━━━━━━━━━━━━━━━━━━━\u001b[0m\u001b[37m\u001b[0m \u001b[1m0s\u001b[0m 26ms/step - acc: 0.9400 - loss: 0.2874\n",
      "Validation loss: 0.2873656749725342\n",
      "Validation accuracy: 0.9399999976158142\n"
     ]
    }
   ],
   "source": [
    "### Evaluate model on validation set\n",
    "score = model.evaluate(X_val, Y_val)\n",
    "print(\"Validation loss:\", score[0])\n",
    "print(\"Validation accuracy:\", score[1])"
   ]
  },
  {
   "cell_type": "code",
   "execution_count": 40,
   "id": "5d6c2bd6",
   "metadata": {},
   "outputs": [
    {
     "name": "stdout",
     "output_type": "stream",
     "text": [
      "\u001b[1m2/2\u001b[0m \u001b[32m━━━━━━━━━━━━━━━━━━━━\u001b[0m\u001b[37m\u001b[0m \u001b[1m0s\u001b[0m 25ms/step - acc: 0.9600 - loss: 0.0981\n",
      "Test loss: 0.09807039052248001\n",
      "Test accuracy: 0.9599999785423279\n"
     ]
    }
   ],
   "source": [
    "### Evaluate model on entire test set\n",
    "score = model.evaluate(X_test, Y_test)\n",
    "print(\"Test loss:\", score[0])\n",
    "print(\"Test accuracy:\", score[1])"
   ]
  },
  {
   "cell_type": "code",
   "execution_count": 43,
   "id": "da869942",
   "metadata": {},
   "outputs": [
    {
     "name": "stdout",
     "output_type": "stream",
     "text": [
      "              precision    recall  f1-score   support\n",
      "\n",
      "           0       1.00      1.00      1.00        12\n",
      "           1       0.89      0.89      0.89         9\n",
      "           2       0.90      1.00      0.95         9\n",
      "           3       0.88      1.00      0.93         7\n",
      "           4       1.00      0.85      0.92        13\n",
      "\n",
      "    accuracy                           0.94        50\n",
      "   macro avg       0.93      0.95      0.94        50\n",
      "weighted avg       0.94      0.94      0.94        50\n",
      "\n"
     ]
    }
   ],
   "source": [
    "print(classification_report(y_val, y_pred))"
   ]
  },
  {
   "cell_type": "markdown",
   "id": "a38e7a37",
   "metadata": {},
   "source": [
    "| Class            | Precision | Recall | F1-Score | Support |\n",
    "| ---------------- | --------- | ------ | -------- | ------- |\n",
    "| background       | 1.00      | 1.00   | 1.00     | 12      |\n",
    "| capacitor        | 0.89      | 0.89   | 0.89     | 9       |\n",
    "| diode            | 0.90      | 1.00   | 0.95     | 9       |\n",
    "| led              | 0.88      | 1.00   | 0.93     | 7       |\n",
    "| resistor         | 1.00      | 0.85   | 0.92     | 13      |\n",
    "| **Accuracy**     |           |        | 0.94     | 50      |\n",
    "| **Macro Avg**    | 0.93      | 0.95   | 0.94     | 50      |\n",
    "| **Weighted Avg** | 0.94      | 0.94   | 0.94     | 50      |\n",
    "\n",
    "### Analysis\n",
    "\n",
    "* The model achieves **very high performance overall** with 94% accuracy.\n",
    "* **Background** is classified perfectly (precision, recall, F1 = 1.00).\n",
    "* **Capacitor** and **LED** classes show slightly lower precision (0.89 and 0.88), indicating occasional false positives.\n",
    "* **Diode** is very strong: perfect recall (1.00) and high precision (0.90).\n",
    "* **Resistor** has perfect precision (1.00) but slightly lower recall (0.85), meaning some resistors are missed and classified as another class.\n",
    "* Macro and weighted averages are balanced, showing no severe class imbalance issues.\n",
    "\n",
    "👉 In practice, focus on improving recall for **resistor** and precision for **capacitor/LED** to further refine the model.\n"
   ]
  }
 ],
 "metadata": {
  "kernelspec": {
   "display_name": ".venv",
   "language": "python",
   "name": "python3"
  },
  "language_info": {
   "codemirror_mode": {
    "name": "ipython",
    "version": 3
   },
   "file_extension": ".py",
   "mimetype": "text/x-python",
   "name": "python",
   "nbconvert_exporter": "python",
   "pygments_lexer": "ipython3",
   "version": "3.12.7"
  }
 },
 "nbformat": 4,
 "nbformat_minor": 5
}
